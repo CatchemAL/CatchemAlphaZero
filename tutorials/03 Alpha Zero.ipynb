{
 "cells": [
  {
   "cell_type": "code",
   "execution_count": 1,
   "id": "8835fea4-1b51-4a80-8cd1-7a83ada43909",
   "metadata": {},
   "outputs": [
    {
     "name": "stdout",
     "output_type": "stream",
     "text": [
      "Loading environment lux_ai_s2 failed: No module named 'vec_noise'\n"
     ]
    }
   ],
   "source": [
    "from IPython.display import display, clear_output\n",
    "from kaggle_environments import make\n",
    "\n",
    "from caz.alpha_zero import AlphaZero, PytorchNeuralNetwork\n",
    "from caz.solvers.mcts import MctsSolver\n",
    "from caz.games import ConnectX, TicTacToe\n",
    "from caz.views import policies"
   ]
  },
  {
   "cell_type": "markdown",
   "id": "330e61d5-7854-47a4-94f5-03e5c2b16484",
   "metadata": {},
   "source": [
    "# Visualising Model predictions for TicTacToe"
   ]
  },
  {
   "cell_type": "code",
   "execution_count": 15,
   "id": "bae3834e-af10-4767-96a0-8e1d8fc458f1",
   "metadata": {},
   "outputs": [
    {
     "data": {
      "text/html": [
       "\n",
       "<!DOCTYPE html>\n",
       "<html>\n",
       "    <head>\n",
       "        <title></title>\n",
       "        <meta charset=\"UTF-8\">\n",
       "        <style>\n",
       "            .ttt-board { border-spacing: 0; border-collapse: collapse; }\n",
       "            .ttt-board th { padding: .5em; }\n",
       "            .ttt-board th + th { border-bottom: 1px solid #000; }\n",
       "            .ttt-board th:first-child,\n",
       "            .ttt-board td:last-child { border-right: 1px solid #000; }\n",
       "            .ttt-board tr:last-child td { border-bottom: 1px solid; }\n",
       "            .ttt-board th:empty { border: none; }\n",
       "            .ttt-board td { width: 1.5em; height: 1.5em; text-align: center; font-size: 18px; line-height: 0;}\n",
       "        </style>\n",
       "    </head>\n",
       "    <body>\n",
       "        <table class=\"ttt-board\" style=\"margin:auto;text-align:center;float:left\">\n",
       "            <tbody>\n",
       "                <tr>\n",
       "<th></th>\n",
       "<th><center>a</center></th>\n",
       "<th><center>b</center></th>\n",
       "<th><center>c</center></th>\n",
       "</tr>\n",
       "<tr>\n",
       "<th>3</th>\n",
       "<td height=\"20\" width=\"20\" bgcolor=\"#EBEBEB\"><font POINT-SIZE=\"12\">⭕</font></td>\n",
       "<td height=\"20\" width=\"20\" bgcolor=\"#FFFFFF\"><font POINT-SIZE=\"12\">✖️</font></td>\n",
       "<td height=\"20\" width=\"20\" bgcolor=\"#EBEBEB\"></td>\n",
       "</tr>\n",
       "<tr>\n",
       "<th>2</th>\n",
       "<td height=\"20\" width=\"20\" bgcolor=\"#FFFFFF\"></td>\n",
       "<td height=\"20\" width=\"20\" bgcolor=\"#EBEBEB\"></td>\n",
       "<td height=\"20\" width=\"20\" bgcolor=\"#FFFFFF\"></td>\n",
       "</tr>\n",
       "<tr>\n",
       "<th>1</th>\n",
       "<td height=\"20\" width=\"20\" bgcolor=\"#EBEBEB\"></td>\n",
       "<td height=\"20\" width=\"20\" bgcolor=\"#FFFFFF\"></td>\n",
       "<td height=\"20\" width=\"20\" bgcolor=\"#EBEBEB\"></td>\n",
       "</tr>\n",
       "\n",
       "            </tbody>\n",
       "        </table>\n",
       "    </body>\n",
       "</html>\n"
      ],
      "text/plain": [
       "TicTacToeState(bitboard_util=BitboardUtil(rows=4, cols=3), mask=68, position=4, num_moves=2)"
      ]
     },
     "execution_count": 15,
     "metadata": {},
     "output_type": "execute_result"
    }
   ],
   "source": [
    "tictactoe = TicTacToe()\n",
    "tictactoe_state = tictactoe.initial_state([0, 1])\n",
    "tictactoe_state"
   ]
  },
  {
   "cell_type": "code",
   "execution_count": 16,
   "id": "227fe576-7bfa-4a65-9eb5-a3140df92723",
   "metadata": {},
   "outputs": [
    {
     "data": {
      "text/html": [
       "\n",
       "<!DOCTYPE html>\n",
       "<html>\n",
       "    <head>\n",
       "        <title></title>\n",
       "        <meta charset=\"UTF-8\">\n",
       "        <style>\n",
       "            .ttt-board { border-spacing: 0; border-collapse: collapse; }\n",
       "            .ttt-board th { padding: .5em; }\n",
       "            .ttt-board th + th { border-bottom: 1px solid #000; }\n",
       "            .ttt-board th:first-child,\n",
       "            .ttt-board td:last-child { border-right: 1px solid #000; }\n",
       "            .ttt-board tr:last-child td { border-bottom: 1px solid; }\n",
       "            .ttt-board th:empty { border: none; }\n",
       "            .ttt-board td { width: 1.5em; height: 1.5em; text-align: center; font-size: 18px; line-height: 0;}\n",
       "        </style>\n",
       "    </head>\n",
       "    <body>\n",
       "        <table class=\"ttt-board\" style=\"margin:auto;text-align:center;float:left\">\n",
       "            <tbody>\n",
       "                <tr>\n",
       "<th></th>\n",
       "<th><center>a</center></th>\n",
       "<th><center>b</center></th>\n",
       "<th><center>c</center></th>\n",
       "</tr>\n",
       "<tr>\n",
       "<th>3</th>\n",
       "<td height=\"20\" width=\"20\" bgcolor=\"#fefe72\"><font POINT-SIZE=\"12\">⭕</font></td>\n",
       "<td height=\"20\" width=\"20\" bgcolor=\"#e9e95d\"><font POINT-SIZE=\"12\">✖️</font></td>\n",
       "<td height=\"20\" width=\"20\" bgcolor=\"#fbfd72\"></td>\n",
       "</tr>\n",
       "<tr>\n",
       "<th>2</th>\n",
       "<td height=\"20\" width=\"20\" bgcolor=\"#c4d75d\"></td>\n",
       "<td height=\"20\" width=\"20\" bgcolor=\"#97ca72\"></td>\n",
       "<td height=\"20\" width=\"20\" bgcolor=\"#e6e85d\"></td>\n",
       "</tr>\n",
       "<tr>\n",
       "<th>1</th>\n",
       "<td height=\"20\" width=\"20\" bgcolor=\"#afd672\"></td>\n",
       "<td height=\"20\" width=\"20\" bgcolor=\"#e7e85d\"></td>\n",
       "<td height=\"20\" width=\"20\" bgcolor=\"#f8fb72\"></td>\n",
       "</tr>\n",
       "\n",
       "            </tbody>\n",
       "        </table>\n",
       "    </body>\n",
       "</html>\n"
      ],
      "text/plain": [
       "PoliciedState(state=TicTacToeState(bitboard_util=BitboardUtil(rows=4, cols=3), mask=68, position=4, num_moves=2), policy_grid=array([[0.00377008, 0.00143978, 0.01482678],\n",
       "       [0.15759313, 0.44138405, 0.0121689 ],\n",
       "       [0.3338122 , 0.01054393, 0.02446105]], dtype=float32))"
      ]
     },
     "execution_count": 16,
     "metadata": {},
     "output_type": "execute_result"
    },
    {
     "data": {
      "image/png": "[encoded data removed]",
      "text/plain": [
       "<Figure size 500x200 with 1 Axes>"
      ]
     },
     "metadata": {},
     "output_type": "display_data"
    }
   ],
   "source": [
    "tictactoe_network = PytorchNeuralNetwork.create(tictactoe, \"..\")\n",
    "alpha_zero_ttt = AlphaZero(tictactoe_network)\n",
    "\n",
    "policy = alpha_zero_ttt.raw_policy(tictactoe_state)\n",
    "tictactoe_state.show_policy(policy)"
   ]
  },
  {
   "cell_type": "code",
   "execution_count": null,
   "id": "aaffa01c-579f-404c-8ac8-b5a6fd33922f",
   "metadata": {},
   "outputs": [],
   "source": [
    "policy = alpha_zero_ttt.policy(tictactoe_state, 2)\n",
    "tictactoe_state.show_policy(policy)"
   ]
  },
  {
   "cell_type": "markdown",
   "id": "d9f8e60b-c474-4a74-9d64-7da5c5223d52",
   "metadata": {},
   "source": [
    "# Visualising Model predictions for ConnectX"
   ]
  },
  {
   "cell_type": "code",
   "execution_count": null,
   "id": "a30a6c86-6e30-4790-b744-adabcb1e23fb",
   "metadata": {},
   "outputs": [],
   "source": [
    "connectx = ConnectX()\n",
    "connectx_state = connectx.initial_state([1, 4, 3, 2, 5, 6, 7, 5, 4, 6, 5])\n",
    "connectx_state"
   ]
  },
  {
   "cell_type": "code",
   "execution_count": null,
   "id": "757bfea1-d49f-4e4f-81c3-4b32aec2e5a8",
   "metadata": {},
   "outputs": [],
   "source": [
    "connectx_network = PytorchNeuralNetwork.create(connectx, \"..\")\n",
    "alpha_zero_connectx = AlphaZero(connectx_network)\n",
    "\n",
    "policy = alpha_zero_connectx.raw_policy(connectx_state)\n",
    "connectx_state.show_policy(policy)"
   ]
  },
  {
   "cell_type": "code",
   "execution_count": null,
   "id": "0574578e-9be6-4f1d-9a7a-9b65c3341bd8",
   "metadata": {},
   "outputs": [],
   "source": [
    "policy = alpha_zero_connectx.policy(connectx_state, num_mcts_sims=1600)\n",
    "connectx_state.show_policy(policy)"
   ]
  },
  {
   "cell_type": "markdown",
   "id": "02dd2568-d328-4ce8-8984-d8d55091ff1c",
   "metadata": {},
   "source": [
    "# Alpha Zero vs Classical Monte Carlo Tree Search"
   ]
  },
  {
   "cell_type": "code",
   "execution_count": null,
   "id": "4bb7cebf-45dc-46ae-8988-375e13803387",
   "metadata": {},
   "outputs": [],
   "source": [
    "player_1000 = MctsSolver(1_000)\n",
    "agent_1000 = connectx.create_agent(player_1000)\n",
    "\n",
    "solver = alpha_zero_connectx.as_solver(100)\n",
    "alpha_zero_agent = connectx.create_agent(solver)\n",
    "\n",
    "env = make(connectx.name, debug=True)\n",
    "states = env.run([agent_1000, alpha_zero_agent])\n",
    "env.render(mode=\"ipython\")"
   ]
  },
  {
   "cell_type": "markdown",
   "id": "89d996c2-4d79-4a90-934b-6d75ea37b242",
   "metadata": {},
   "source": [
    "# Play against Alpha Zero"
   ]
  },
  {
   "cell_type": "code",
   "execution_count": null,
   "id": "3a2c44d7-693c-41f0-89be-9a50900860a3",
   "metadata": {},
   "outputs": [],
   "source": [
    "game = ConnectX()\n",
    "state = game.initial_state()\n",
    "challenger_plays_as = 1  # play as Player: 1 or 2\n",
    "\n",
    "network = PytorchNeuralNetwork.create(game, \"..\")\n",
    "alpha_zero = AlphaZero(network)\n",
    "\n",
    "network_old = PytorchNeuralNetwork.create(game, \"..\", 20)\n",
    "alpha_zero_old = AlphaZero(network_old)\n",
    "\n",
    "\n",
    "def get_move(i: int) -> int:\n",
    "    if i % 2 == challenger_plays_as:\n",
    "        return alpha_zero.select_move(state, 100)\n",
    "    else:\n",
    "        return state.get_input_move()\n",
    "        # return alpha_zero_old.select_move(state, 60)\n",
    "\n",
    "\n",
    "while state.status().is_in_progress:\n",
    "    clear_output()\n",
    "    display(state)\n",
    "    move = get_move(state.num_moves)\n",
    "    state.set_move(move)\n",
    "\n",
    "clear_output()\n",
    "display(state)\n",
    "if state.status().value > 0:\n",
    "    print(\"Challenger wins!\" if state.played_by == challenger_plays_as else \"AlphaZero wins!\")\n",
    "else:\n",
    "    print(\"It's a draw!\")"
   ]
  }
 ],
 "metadata": {
  "kernelspec": {
   "display_name": "Python 3 (ipykernel)",
   "language": "python",
   "name": "python3"
  },
  "language_info": {
   "codemirror_mode": {
    "name": "ipython",
    "version": 3
   },
   "file_extension": ".py",
   "mimetype": "text/x-python",
   "name": "python",
   "nbconvert_exporter": "python",
   "pygments_lexer": "ipython3",
   "version": "3.11.3"
  }
 },
 "nbformat": 4,
 "nbformat_minor": 5
}
