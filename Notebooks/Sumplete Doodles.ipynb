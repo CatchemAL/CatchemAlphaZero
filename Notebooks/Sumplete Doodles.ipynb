{
 "cells": [
  {
   "cell_type": "code",
   "execution_count": 1,
   "id": "e62349e6-5788-4245-a9ba-0ad87fb5b3a7",
   "metadata": {
    "tags": []
   },
   "outputs": [],
   "source": [
    "from pypad.sumplete_solver import Board, BoardPrinter, SumpleteSolver, BoardPrinter"
   ]
  },
  {
   "cell_type": "code",
   "execution_count": 2,
   "id": "43bf1391-965b-436e-ad81-fc597ad02e81",
   "metadata": {
    "tags": []
   },
   "outputs": [
    {
     "name": "stdout",
     "output_type": "stream",
     "text": [
      "      1   2   3   4   5   6   7   8\n",
      "   |--------------------------------|\n",
      " 1 |  6   9   4   7   4   5   6   6 | 34\n",
      " 2 |  8   9   1   5   4   2   7   1 | 30\n",
      " 3 |  1   5   4   8   9   1   3   4 |  5\n",
      " 4 |  1   3   4   1   9   3   1   5 |  6\n",
      " 5 |  5   2   2   6   1   3   5   2 | 16\n",
      " 6 |  1   5   7   6   2   4   7   9 | 23\n",
      " 7 |  9   3   6   6   5   8   9   9 | 23\n",
      " 8 |  1   2   7   7   2   5   3   5 | 18\n",
      "   |--------------------------------|\n",
      "   | 22  22  12   7  13  25  15  39 |\n"
     ]
    }
   ],
   "source": [
    "n = 8\n",
    "board = Board.create(n)\n",
    "printer = BoardPrinter()\n",
    "printer.print(board)"
   ]
  },
  {
   "cell_type": "code",
   "execution_count": 3,
   "id": "59b63fd4-66dc-4de8-962f-d02560509dbe",
   "metadata": {
    "tags": []
   },
   "outputs": [
    {
     "name": "stdout",
     "output_type": "stream",
     "text": [
      "      1   2   3   4   5   6   7   8\n",
      "   |--------------------------------|\n",
      " 1 |\u001b[32m  6\u001b[0m \u001b[32m  9\u001b[0m \u001b[32m  4\u001b[0m \u001b[31m  7\u001b[0m \u001b[32m  4\u001b[0m \u001b[32m  5\u001b[0m \u001b[31m  6\u001b[0m \u001b[32m  6\u001b[0m | 34\n",
      " 2 |\u001b[32m  8\u001b[0m \u001b[32m  9\u001b[0m \u001b[32m  1\u001b[0m \u001b[31m  5\u001b[0m \u001b[32m  4\u001b[0m \u001b[31m  2\u001b[0m \u001b[32m  7\u001b[0m \u001b[32m  1\u001b[0m | 30\n",
      " 3 |\u001b[32m  1\u001b[0m \u001b[31m  5\u001b[0m \u001b[31m  4\u001b[0m \u001b[31m  8\u001b[0m \u001b[31m  9\u001b[0m \u001b[31m  1\u001b[0m \u001b[31m  3\u001b[0m \u001b[32m  4\u001b[0m |  5\n",
      " 4 |\u001b[31m  1\u001b[0m \u001b[31m  3\u001b[0m \u001b[31m  4\u001b[0m \u001b[32m  1\u001b[0m \u001b[31m  9\u001b[0m \u001b[31m  3\u001b[0m \u001b[31m  1\u001b[0m \u001b[32m  5\u001b[0m |  6\n",
      " 5 |\u001b[32m  5\u001b[0m \u001b[32m  2\u001b[0m \u001b[31m  2\u001b[0m \u001b[31m  6\u001b[0m \u001b[32m  1\u001b[0m \u001b[32m  3\u001b[0m \u001b[32m  5\u001b[0m \u001b[31m  2\u001b[0m | 16\n",
      " 6 |\u001b[32m  1\u001b[0m \u001b[31m  5\u001b[0m \u001b[32m  7\u001b[0m \u001b[31m  6\u001b[0m \u001b[32m  2\u001b[0m \u001b[32m  4\u001b[0m \u001b[31m  7\u001b[0m \u001b[32m  9\u001b[0m | 23\n",
      " 7 |\u001b[31m  9\u001b[0m \u001b[31m  3\u001b[0m \u001b[31m  6\u001b[0m \u001b[32m  6\u001b[0m \u001b[31m  5\u001b[0m \u001b[32m  8\u001b[0m \u001b[31m  9\u001b[0m \u001b[32m  9\u001b[0m | 23\n",
      " 8 |\u001b[32m  1\u001b[0m \u001b[32m  2\u001b[0m \u001b[31m  7\u001b[0m \u001b[31m  7\u001b[0m \u001b[32m  2\u001b[0m \u001b[32m  5\u001b[0m \u001b[32m  3\u001b[0m \u001b[32m  5\u001b[0m | 18\n",
      "   |--------------------------------|\n",
      "   | 22  22  12   7  13  25  15  39 |\n"
     ]
    }
   ],
   "source": [
    "solver = SumpleteSolver()\n",
    "solver.solve(board)\n",
    "printer.print(board)"
   ]
  }
 ],
 "metadata": {
  "kernelspec": {
   "display_name": "Python 3 (ipykernel)",
   "language": "python",
   "name": "python3"
  },
  "language_info": {
   "codemirror_mode": {
    "name": "ipython",
    "version": 3
   },
   "file_extension": ".py",
   "mimetype": "text/x-python",
   "name": "python",
   "nbconvert_exporter": "python",
   "pygments_lexer": "ipython3",
   "version": "3.11.3"
  }
 },
 "nbformat": 4,
 "nbformat_minor": 5
}
