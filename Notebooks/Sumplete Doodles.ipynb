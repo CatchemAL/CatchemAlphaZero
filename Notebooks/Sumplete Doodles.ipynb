{
 "cells": [
  {
   "cell_type": "code",
   "execution_count": 18,
   "id": "e62349e6-5788-4245-a9ba-0ad87fb5b3a7",
   "metadata": {
    "tags": []
   },
   "outputs": [],
   "source": [
    "import numpy as np "
   ]
  },
  {
   "cell_type": "code",
   "execution_count": 19,
   "id": "43bf1391-965b-436e-ad81-fc597ad02e81",
   "metadata": {
    "tags": []
   },
   "outputs": [
    {
     "data": {
      "text/plain": [
       "array([ True,  True,  True, False,  True])"
      ]
     },
     "execution_count": 19,
     "metadata": {},
     "output_type": "execute_result"
    }
   ],
   "source": [
    "x = np.array([True, True, True,False,True])\n",
    "x"
   ]
  },
  {
   "cell_type": "code",
   "execution_count": 20,
   "id": "d08fa6b8-5923-4892-a457-004a2c6fbb64",
   "metadata": {
    "tags": []
   },
   "outputs": [
    {
     "data": {
      "text/plain": [
       "array([ True, False,  True, False, False])"
      ]
     },
     "execution_count": 20,
     "metadata": {},
     "output_type": "execute_result"
    }
   ],
   "source": [
    "n = 2\n",
    "np.pad(x, (n, 0))[:-n]\n",
    "np.pad(x, (0, n))[n:]\n"
   ]
  },
  {
   "cell_type": "code",
   "execution_count": 75,
   "id": "783da608-9d5f-47f5-b434-3e19abdafe85",
   "metadata": {
    "tags": []
   },
   "outputs": [
    {
     "name": "stdout",
     "output_type": "stream",
     "text": [
      "      1   2   3   4   5   6   7   8\n",
      "   |--------------------------------|\n",
      " 1 |  3   2   2  -1   1   7   9  -1 | 22\n",
      " 2 | -3   7   8  16   0  13   2  10 | 53\n",
      " 3 |  4   9   8   8  15  -1  -1   0 | 42\n",
      " 4 |  3   7   8  11  16   0  14  16 | 75\n",
      " 5 | 15  -4   4  15   8  16   2  -5 | 51\n",
      " 6 | 12  -4  14  15   3  16   8  15 | 79\n",
      " 7 | 15   9   0   5  -5   1   9   5 | 39\n",
      " 8 |  2   9   1  16   7  -1   1  11 | 46\n",
      "   |--------------------------------|\n",
      "   | 51  35  45  85  45  51  44  51 |\n"
     ]
    }
   ],
   "source": [
    "import numpy as np\n",
    "\n",
    "def print_matrix(matrix):\n",
    "    # Determine the dimensions of the matrix\n",
    "    rows, cols = matrix.shape\n",
    "    \n",
    "    # Print the header for the matrix\n",
    "    col_nums = \"    \" + \" \".join([f\" {i+1:2}\" for i in range(cols)])\n",
    "    print(col_nums)\n",
    "    row_divider = \"   |\" + \"-\" * (cols * 4) + \"|\"\n",
    "    print(row_divider)\n",
    "    \n",
    "    # Print each row of the matrix\n",
    "    for i in range(rows):\n",
    "        row_string = \" \".join([f\"{num:3}\" for num in matrix[i]])\n",
    "        row_sum = f\"{np.sum(matrix[i]):3}\"\n",
    "        print(f\"{i+1:2} |{row_string} |{row_sum}\")\n",
    "    \n",
    "    # Print the footer for the matrix\n",
    "    col_sums = [f\"{np.sum(matrix[:,j]):3}\" for j in range(cols)]\n",
    "    total_sum = f\"{np.sum(matrix):3}\"\n",
    "    col_string = \" \".join(col_sums)\n",
    "    print(row_divider)\n",
    "    print(f\"   |{col_string} |\")\n",
    "\n",
    "    \n",
    "# Create an 8x8 numpy array with random integers from 0 to 99\n",
    "matrix = np.random.randint(low=-5, high=17, size=(8,8))\n",
    "print_matrix(matrix)"
   ]
  },
  {
   "cell_type": "code",
   "execution_count": 172,
   "id": "5c4ee22c-6c2a-4469-956d-0efca97627c9",
   "metadata": {
    "tags": []
   },
   "outputs": [
    {
     "name": "stdout",
     "output_type": "stream",
     "text": [
      "      1   2   3   4   5   6   7   8\n",
      "   |--------------------------------|\n",
      " 1 |\u001b[32m 12\u001b[0m \u001b[31m -5\u001b[0m \u001b[32m  9\u001b[0m   6 \u001b[31m 13\u001b[0m   2   1   4 | 42\n",
      " 2 |\u001b[32m -4\u001b[0m \u001b[32m -2\u001b[0m \u001b[31m -2\u001b[0m \u001b[32m  7\u001b[0m \u001b[31m  0\u001b[0m \u001b[32m  5\u001b[0m \u001b[31m  2\u001b[0m \u001b[31m  1\u001b[0m |  7\n",
      " 3 |\u001b[32m 12\u001b[0m \u001b[31m  3\u001b[0m \u001b[31m 10\u001b[0m  -1 \u001b[32m -3\u001b[0m   0 \u001b[32m  9\u001b[0m \u001b[32m  3\u001b[0m | 33\n",
      " 4 |\u001b[31m  7\u001b[0m \u001b[32m 16\u001b[0m  -3 \u001b[31m  3\u001b[0m   1 \u001b[32m 12\u001b[0m \u001b[32m  0\u001b[0m   0 | 36\n",
      " 5 |\u001b[32m 10\u001b[0m  13   2 \u001b[31m  5\u001b[0m  -1 \u001b[32m  3\u001b[0m \u001b[31m  7\u001b[0m \u001b[31m 11\u001b[0m | 50\n",
      " 6 |\u001b[32m 11\u001b[0m   9 \u001b[32m  7\u001b[0m \u001b[31m 16\u001b[0m \u001b[31m 10\u001b[0m  16   4 \u001b[32m 12\u001b[0m | 85\n",
      " 7 |\u001b[31m 16\u001b[0m \u001b[31m 10\u001b[0m \u001b[31m  6\u001b[0m \u001b[31m  8\u001b[0m \u001b[31m  0\u001b[0m \u001b[31m  9\u001b[0m  10 \u001b[32m -4\u001b[0m | 55\n",
      " 8 |\u001b[31m -1\u001b[0m   7 \u001b[32m 11\u001b[0m \u001b[31m  3\u001b[0m \u001b[32m 16\u001b[0m \u001b[31m -5\u001b[0m  -1 \u001b[32m 13\u001b[0m | 43\n",
      "   |--------------------------------|\n",
      "   | 63  51  40  47  36  42  32  40 |\n"
     ]
    }
   ],
   "source": [
    "import numpy as np\n",
    "from colorama import Fore, Style\n",
    "\n",
    "def print_matrix(matrix, mask):\n",
    "    # Determine the dimensions of the matrix\n",
    "    rows, cols = matrix.shape\n",
    "\n",
    "    # Print the header for the matrix\n",
    "    col_nums = \"    \" + \" \".join([f\" {i+1:2}\" for i in range(cols)])\n",
    "    print(col_nums)\n",
    "    row_divider = \"   |\" + \"-\" * (cols * 4) + \"|\"\n",
    "    print(row_divider)\n",
    "\n",
    "    # Print each row of the matrix\n",
    "    for i in range(rows):\n",
    "        row_items = []\n",
    "        for j in range(cols):\n",
    "            item = f\"{matrix[i][j]:3}\"\n",
    "            if mask[i][j] == 1:\n",
    "                item = f\"{Fore.RED}{item}{Style.RESET_ALL}\"\n",
    "            elif mask[i][j] == 2:\n",
    "                item = f\"{Fore.GREEN}{item}{Style.RESET_ALL}\"\n",
    "            row_items.append(item)\n",
    "\n",
    "        row_string = \" \".join(row_items)\n",
    "        row_sum = f\"{np.sum(matrix[i]):3}\"\n",
    "        print(f\"{i+1:2} |{row_string} |{row_sum}\")\n",
    "\n",
    "    # Print the footer for the matrix\n",
    "    col_sums = [f\"{np.sum(matrix[:,j]):3}\" for j in range(cols)]\n",
    "    total_sum = f\"{np.sum(matrix):3}\"\n",
    "    col_string = \" \".join(col_sums)\n",
    "    print(row_divider)\n",
    "    print(f\"   |{col_string} |\")\n",
    "    \n",
    "# Create an 8x8 numpy array with random integers from 0 to 99\n",
    "matrix = np.random.randint(low=-5, high=17, size=(8,8))\n",
    "mask = np.random.randint(low=0, high=3, size=(8,8))\n",
    "print_matrix(matrix, mask)"
   ]
  },
  {
   "cell_type": "code",
   "execution_count": 194,
   "id": "0f3f1d1c-731e-410c-8999-ad91a4f5af38",
   "metadata": {
    "tags": []
   },
   "outputs": [
    {
     "name": "stdout",
     "output_type": "stream",
     "text": [
      "[-34   6 -13   4]\n",
      "[-24 -40  27   0]\n"
     ]
    },
    {
     "data": {
      "text/plain": [
       "array([[-18,   0,  -6,   0],\n",
       "       [-16, -11,   0, -13],\n",
       "       [  0,  17,  -7,  17],\n",
       "       [  0,   0,   0,   0]])"
      ]
     },
     "execution_count": 194,
     "metadata": {},
     "output_type": "execute_result"
    }
   ],
   "source": [
    "def generate_nonzero_array(n: int):\n",
    "    # Generate a 9x9 array with random integers between -20 and 20, excluding zero\n",
    "    value_range = np.concatenate((np.arange(-20, 0), np.arange(1, 21)))\n",
    "    arr = np.random.choice(value_range, size=(n, n))\n",
    "    return arr\n",
    "\n",
    "n = 4\n",
    "grid = generate_nonzero_array(n)\n",
    "mask = np.random.randint(low=1, high=3, size=(n, n))\n",
    "included = grid * (mask == 2)\n",
    "print(included.sum(axis=0))\n",
    "print(included.sum(axis=1))\n",
    "included"
   ]
  }
 ],
 "metadata": {
  "kernelspec": {
   "display_name": "Python 3 (ipykernel)",
   "language": "python",
   "name": "python3"
  },
  "language_info": {
   "codemirror_mode": {
    "name": "ipython",
    "version": 3
   },
   "file_extension": ".py",
   "mimetype": "text/x-python",
   "name": "python",
   "nbconvert_exporter": "python",
   "pygments_lexer": "ipython3",
   "version": "3.10.10"
  }
 },
 "nbformat": 4,
 "nbformat_minor": 5
}
