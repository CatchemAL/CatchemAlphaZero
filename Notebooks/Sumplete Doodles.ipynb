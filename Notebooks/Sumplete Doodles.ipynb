{
 "cells": [
  {
   "cell_type": "code",
   "execution_count": 14,
   "id": "e62349e6-5788-4245-a9ba-0ad87fb5b3a7",
   "metadata": {
    "tags": []
   },
   "outputs": [],
   "source": [
    "from pypad.sumplete_solver2 import Board, BoardPrinter, SumpleteSolver, BoardPrinter"
   ]
  },
  {
   "cell_type": "code",
   "execution_count": 15,
   "id": "43bf1391-965b-436e-ad81-fc597ad02e81",
   "metadata": {
    "tags": []
   },
   "outputs": [
    {
     "name": "stdout",
     "output_type": "stream",
     "text": [
      "      1   2   3   4   5   6   7   8\n",
      "   |--------------------------------|\n",
      " 1 |\u001b[31m  7\u001b[0m \u001b[32m  4\u001b[0m \u001b[31m  8\u001b[0m \u001b[32m  5\u001b[0m \u001b[31m  7\u001b[0m \u001b[31m  3\u001b[0m \u001b[32m  7\u001b[0m \u001b[31m  8\u001b[0m | 16\n",
      " 2 |\u001b[32m  5\u001b[0m \u001b[32m  4\u001b[0m \u001b[32m  8\u001b[0m \u001b[31m  8\u001b[0m \u001b[32m  3\u001b[0m \u001b[32m  6\u001b[0m \u001b[31m  5\u001b[0m \u001b[32m  2\u001b[0m | 28\n",
      " 3 |\u001b[32m  8\u001b[0m \u001b[32m  6\u001b[0m \u001b[32m  2\u001b[0m \u001b[31m  5\u001b[0m \u001b[31m  1\u001b[0m \u001b[31m  6\u001b[0m \u001b[31m  9\u001b[0m \u001b[31m  1\u001b[0m | 16\n",
      " 4 |\u001b[31m  3\u001b[0m \u001b[31m  7\u001b[0m \u001b[31m  4\u001b[0m \u001b[32m  9\u001b[0m \u001b[31m  3\u001b[0m \u001b[31m  5\u001b[0m \u001b[32m  3\u001b[0m \u001b[32m  7\u001b[0m | 19\n",
      " 5 |\u001b[32m  5\u001b[0m \u001b[32m  9\u001b[0m \u001b[31m  7\u001b[0m \u001b[32m  2\u001b[0m \u001b[31m  4\u001b[0m \u001b[32m  9\u001b[0m \u001b[31m  2\u001b[0m \u001b[32m  9\u001b[0m | 34\n",
      " 6 |\u001b[32m  5\u001b[0m \u001b[32m  2\u001b[0m \u001b[32m  4\u001b[0m \u001b[31m  7\u001b[0m \u001b[31m  8\u001b[0m \u001b[31m  3\u001b[0m \u001b[31m  1\u001b[0m \u001b[31m  4\u001b[0m | 11\n",
      " 7 |\u001b[31m  2\u001b[0m \u001b[32m  8\u001b[0m \u001b[32m  4\u001b[0m \u001b[32m  2\u001b[0m \u001b[31m  6\u001b[0m \u001b[31m  6\u001b[0m \u001b[31m  4\u001b[0m \u001b[32m  6\u001b[0m | 20\n",
      " 8 |\u001b[32m  2\u001b[0m \u001b[31m  2\u001b[0m \u001b[32m  4\u001b[0m \u001b[31m  8\u001b[0m \u001b[32m  7\u001b[0m \u001b[32m  9\u001b[0m \u001b[32m  8\u001b[0m \u001b[31m  5\u001b[0m | 30\n",
      "   |--------------------------------|\n",
      "   | 25  33  22  18  10  24  18  24 |\n"
     ]
    }
   ],
   "source": [
    "n = 8\n",
    "board = Board.create(n)\n",
    "\n",
    "solver = SumpleteSolver()\n",
    "if solver.solve(board):\n",
    "    printer = BoardPrinter()\n",
    "    printer.print(board)\n",
    "else:\n",
    "    print(\"failed to solve\")\n",
    "    \n"
   ]
  }
 ],
 "metadata": {
  "kernelspec": {
   "display_name": "Python 3 (ipykernel)",
   "language": "python",
   "name": "python3"
  },
  "language_info": {
   "codemirror_mode": {
    "name": "ipython",
    "version": 3
   },
   "file_extension": ".py",
   "mimetype": "text/x-python",
   "name": "python",
   "nbconvert_exporter": "python",
   "pygments_lexer": "ipython3",
   "version": "3.10.10"
  }
 },
 "nbformat": 4,
 "nbformat_minor": 5
}
