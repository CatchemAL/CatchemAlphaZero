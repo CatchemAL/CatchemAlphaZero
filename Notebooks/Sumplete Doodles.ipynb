{
 "cells": [
  {
   "cell_type": "code",
   "execution_count": null,
   "id": "e62349e6-5788-4245-a9ba-0ad87fb5b3a7",
   "metadata": {
    "tags": []
   },
   "outputs": [],
   "source": [
    "import numpy as np "
   ]
  },
  {
   "cell_type": "code",
   "execution_count": null,
   "id": "43bf1391-965b-436e-ad81-fc597ad02e81",
   "metadata": {
    "tags": []
   },
   "outputs": [],
   "source": [
    "x = np.array([True, True, True,False,True])\n",
    "x"
   ]
  },
  {
   "cell_type": "code",
   "execution_count": null,
   "id": "d08fa6b8-5923-4892-a457-004a2c6fbb64",
   "metadata": {
    "tags": []
   },
   "outputs": [],
   "source": [
    "n = 2\n",
    "np.pad(x, (n, 0))[:-n]\n",
    "np.pad(x, (0, n))[n:]\n"
   ]
  },
  {
   "cell_type": "code",
   "execution_count": null,
   "id": "783da608-9d5f-47f5-b434-3e19abdafe85",
   "metadata": {
    "tags": []
   },
   "outputs": [],
   "source": [
    "import numpy as np\n",
    "\n",
    "def print_matrix(matrix):\n",
    "    # Determine the dimensions of the matrix\n",
    "    rows, cols = matrix.shape\n",
    "    \n",
    "    # Print the header for the matrix\n",
    "    col_nums = \"    \" + \" \".join([f\" {i+1:2}\" for i in range(cols)])\n",
    "    print(col_nums)\n",
    "    row_divider = \"   |\" + \"-\" * (cols * 4) + \"|\"\n",
    "    print(row_divider)\n",
    "    \n",
    "    # Print each row of the matrix\n",
    "    for i in range(rows):\n",
    "        row_string = \" \".join([f\"{num:3}\" for num in matrix[i]])\n",
    "        row_sum = f\"{np.sum(matrix[i]):3}\"\n",
    "        print(f\"{i+1:2} |{row_string} |{row_sum}\")\n",
    "    \n",
    "    # Print the footer for the matrix\n",
    "    col_sums = [f\"{np.sum(matrix[:,j]):3}\" for j in range(cols)]\n",
    "    total_sum = f\"{np.sum(matrix):3}\"\n",
    "    col_string = \" \".join(col_sums)\n",
    "    print(row_divider)\n",
    "    print(f\"   |{col_string} |\")\n",
    "\n",
    "    \n",
    "# Create an 8x8 numpy array with random integers from 0 to 99\n",
    "matrix = np.random.randint(low=-5, high=17, size=(8,8))\n",
    "print_matrix(matrix)"
   ]
  },
  {
   "cell_type": "code",
   "execution_count": null,
   "id": "5c4ee22c-6c2a-4469-956d-0efca97627c9",
   "metadata": {
    "tags": []
   },
   "outputs": [],
   "source": [
    "import numpy as np\n",
    "from colorama import Fore, Style\n",
    "\n",
    "def print_matrix(matrix, mask):\n",
    "    # Determine the dimensions of the matrix\n",
    "    rows, cols = matrix.shape\n",
    "\n",
    "    # Print the header for the matrix\n",
    "    col_nums = \"    \" + \" \".join([f\" {i+1:2}\" for i in range(cols)])\n",
    "    print(col_nums)\n",
    "    row_divider = \"   |\" + \"-\" * (cols * 4) + \"|\"\n",
    "    print(row_divider)\n",
    "\n",
    "    # Print each row of the matrix\n",
    "    for i in range(rows):\n",
    "        row_items = []\n",
    "        for j in range(cols):\n",
    "            item = f\"{matrix[i][j]:3}\"\n",
    "            if mask[i][j] == 1:\n",
    "                item = f\"{Fore.RED}{item}{Style.RESET_ALL}\"\n",
    "            elif mask[i][j] == 2:\n",
    "                item = f\"{Fore.GREEN}{item}{Style.RESET_ALL}\"\n",
    "            row_items.append(item)\n",
    "\n",
    "        row_string = \" \".join(row_items)\n",
    "        row_sum = f\"{np.sum(matrix[i]):3}\"\n",
    "        print(f\"{i+1:2} |{row_string} |{row_sum}\")\n",
    "\n",
    "    # Print the footer for the matrix\n",
    "    col_sums = [f\"{np.sum(matrix[:,j]):3}\" for j in range(cols)]\n",
    "    total_sum = f\"{np.sum(matrix):3}\"\n",
    "    col_string = \" \".join(col_sums)\n",
    "    print(row_divider)\n",
    "    print(f\"   |{col_string} |\")\n",
    "    \n",
    "# Create an 8x8 numpy array with random integers from 0 to 99\n",
    "matrix = np.random.randint(low=-5, high=17, size=(8,8))\n",
    "mask = np.random.randint(low=0, high=3, size=(8,8))\n",
    "print_matrix(matrix, mask)"
   ]
  },
  {
   "cell_type": "code",
   "execution_count": null,
   "id": "fbd2bde5-9994-4948-bf07-dfb265d8d400",
   "metadata": {
    "tags": []
   },
   "outputs": [],
   "source": [
    "from pypad.sumplete_solver2 import Board, BoardPrinter\n",
    "\n",
    "n = 6\n",
    "\n",
    "board = Board.create(n)\n",
    "printer = BoardPrinter()\n",
    "printer.print(board)"
   ]
  },
  {
   "cell_type": "code",
   "execution_count": null,
   "id": "29cf613a-ba05-4ff3-997c-78fe94f737b1",
   "metadata": {
    "tags": []
   },
   "outputs": [],
   "source": [
    "board.mask[3, 4] = 1\n",
    "board.mask[3, 5] = 2\n",
    "printer.print(board)"
   ]
  }
 ],
 "metadata": {
  "kernelspec": {
   "display_name": "Python 3 (ipykernel)",
   "language": "python",
   "name": "python3"
  },
  "language_info": {
   "codemirror_mode": {
    "name": "ipython",
    "version": 3
   },
   "file_extension": ".py",
   "mimetype": "text/x-python",
   "name": "python",
   "nbconvert_exporter": "python",
   "pygments_lexer": "ipython3",
   "version": "3.10.10"
  }
 },
 "nbformat": 4,
 "nbformat_minor": 5
}
