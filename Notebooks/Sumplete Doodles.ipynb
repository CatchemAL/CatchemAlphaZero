{
 "cells": [
  {
   "cell_type": "code",
   "execution_count": 1,
   "id": "e62349e6-5788-4245-a9ba-0ad87fb5b3a7",
   "metadata": {
    "tags": []
   },
   "outputs": [],
   "source": [
    "from pypad.sumplete_solver import Board, BoardPrinter, SumpleteSolver, BoardPrinter"
   ]
  },
  {
   "cell_type": "code",
   "execution_count": 2,
   "id": "43bf1391-965b-436e-ad81-fc597ad02e81",
   "metadata": {
    "tags": []
   },
   "outputs": [
    {
     "name": "stdout",
     "output_type": "stream",
     "text": [
      "      1   2   3   4   5   6   7   8\n",
      "   |--------------------------------|\n",
      " 1 |  6   2   3   9   2   3   9   6 | 26\n",
      " 2 |  4   9   3   4   8   7   9   4 | 23\n",
      " 3 |  3   2   5   1   7   7   7   8 |  6\n",
      " 4 |  8   2   3   4   3   2   5   7 | 14\n",
      " 5 |  6   3   7   3   6   7   3   4 | 16\n",
      " 6 |  6   1   1   1   2   9   3   9 |  4\n",
      " 7 |  1   3   3   2   1   6   2   1 | 11\n",
      " 8 |  9   4   7   5   5   7   7   4 | 16\n",
      "   |--------------------------------|\n",
      "   | 16  18  11  20   5  21  14  11 |\n"
     ]
    }
   ],
   "source": [
    "n = 8\n",
    "board = Board.create(n)\n",
    "printer = BoardPrinter()\n",
    "printer.print(board)"
   ]
  },
  {
   "cell_type": "code",
   "execution_count": 3,
   "id": "59b63fd4-66dc-4de8-962f-d02560509dbe",
   "metadata": {
    "tags": []
   },
   "outputs": [
    {
     "name": "stdout",
     "output_type": "stream",
     "text": [
      "      1   2   3   4   5   6   7   8\n",
      "   |--------------------------------|\n",
      " 1 |\u001b[32m  6\u001b[0m \u001b[32m  2\u001b[0m \u001b[31m  3\u001b[0m \u001b[32m  9\u001b[0m \u001b[31m  2\u001b[0m \u001b[31m  3\u001b[0m \u001b[32m  9\u001b[0m \u001b[31m  6\u001b[0m | 26\n",
      " 2 |\u001b[31m  4\u001b[0m \u001b[32m  9\u001b[0m \u001b[32m  3\u001b[0m \u001b[31m  4\u001b[0m \u001b[31m  8\u001b[0m \u001b[32m  7\u001b[0m \u001b[31m  9\u001b[0m \u001b[32m  4\u001b[0m | 23\n",
      " 3 |\u001b[31m  3\u001b[0m \u001b[31m  2\u001b[0m \u001b[32m  5\u001b[0m \u001b[32m  1\u001b[0m \u001b[31m  7\u001b[0m \u001b[31m  7\u001b[0m \u001b[31m  7\u001b[0m \u001b[31m  8\u001b[0m |  6\n",
      " 4 |\u001b[31m  8\u001b[0m \u001b[31m  2\u001b[0m \u001b[31m  3\u001b[0m \u001b[32m  4\u001b[0m \u001b[32m  3\u001b[0m \u001b[31m  2\u001b[0m \u001b[31m  5\u001b[0m \u001b[32m  7\u001b[0m | 14\n",
      " 5 |\u001b[31m  6\u001b[0m \u001b[32m  3\u001b[0m \u001b[31m  7\u001b[0m \u001b[32m  3\u001b[0m \u001b[31m  6\u001b[0m \u001b[32m  7\u001b[0m \u001b[32m  3\u001b[0m \u001b[31m  4\u001b[0m | 16\n",
      " 6 |\u001b[31m  6\u001b[0m \u001b[32m  1\u001b[0m \u001b[31m  1\u001b[0m \u001b[32m  1\u001b[0m \u001b[32m  2\u001b[0m \u001b[31m  9\u001b[0m \u001b[31m  3\u001b[0m \u001b[31m  9\u001b[0m |  4\n",
      " 7 |\u001b[32m  1\u001b[0m \u001b[32m  3\u001b[0m \u001b[32m  3\u001b[0m \u001b[32m  2\u001b[0m \u001b[31m  1\u001b[0m \u001b[31m  6\u001b[0m \u001b[32m  2\u001b[0m \u001b[31m  1\u001b[0m | 11\n",
      " 8 |\u001b[32m  9\u001b[0m \u001b[31m  4\u001b[0m \u001b[31m  7\u001b[0m \u001b[31m  5\u001b[0m \u001b[31m  5\u001b[0m \u001b[32m  7\u001b[0m \u001b[31m  7\u001b[0m \u001b[31m  4\u001b[0m | 16\n",
      "   |--------------------------------|\n",
      "   | 16  18  11  20   5  21  14  11 |\n"
     ]
    }
   ],
   "source": [
    "solver = SumpleteSolver()\n",
    "solver.solve(board)\n",
    "printer.print(board)"
   ]
  }
 ],
 "metadata": {
  "kernelspec": {
   "display_name": "Python 3 (ipykernel)",
   "language": "python",
   "name": "python3"
  },
  "language_info": {
   "codemirror_mode": {
    "name": "ipython",
    "version": 3
   },
   "file_extension": ".py",
   "mimetype": "text/x-python",
   "name": "python",
   "nbconvert_exporter": "python",
   "pygments_lexer": "ipython3",
   "version": "3.10.11"
  }
 },
 "nbformat": 4,
 "nbformat_minor": 5
}
