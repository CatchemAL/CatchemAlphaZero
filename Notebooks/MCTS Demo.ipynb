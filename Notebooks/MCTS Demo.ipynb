{
 "cells": [
  {
   "cell_type": "code",
   "execution_count": null,
   "id": "a28b13c1-a304-40f1-85af-770db9bf74f8",
   "metadata": {
    "tags": []
   },
   "outputs": [],
   "source": [
    "from kaggle_environments import make\n",
    "\n",
    "from pypad.solvers.mcts import MctsSolver\n",
    "from pypad.games import ConnectX, TicTacToe"
   ]
  },
  {
   "cell_type": "markdown",
   "id": "0ac70410-50aa-479d-98e8-4621aaa96c6a",
   "metadata": {},
   "source": [
    "# Tic-Tac-Toe Kaggle Battle"
   ]
  },
  {
   "cell_type": "code",
   "execution_count": null,
   "id": "ad6f036e-d529-4429-b832-8bc435dd44dd",
   "metadata": {
    "tags": []
   },
   "outputs": [],
   "source": [
    "tictactoe = TicTacToe()\n",
    "\n",
    "player_1000 = MctsSolver(1_000)\n",
    "player_100 = MctsSolver(1_00)\n",
    "\n",
    "agent_1000 = tictactoe.create_agent(player_1000)\n",
    "agent_100 = tictactoe.create_agent(player_100)\n",
    "\n",
    "# Run on the Kaggle environment\n",
    "env = make(tictactoe.name, debug=True)\n",
    "env.run([agent_1000, agent_100])\n",
    "env.render(mode=\"ipython\")"
   ]
  },
  {
   "cell_type": "markdown",
   "id": "408cde36-d935-499c-be0b-1d136222a803",
   "metadata": {},
   "source": [
    "# Tree Search Visualization"
   ]
  },
  {
   "cell_type": "code",
   "execution_count": null,
   "id": "1fb7011b-c174-4a17-89f8-8aea3503ff58",
   "metadata": {
    "tags": []
   },
   "outputs": [],
   "source": [
    "state = tictactoe.initial_state(\"0,1,8,5,6\")\n",
    "state"
   ]
  },
  {
   "cell_type": "code",
   "execution_count": null,
   "id": "df2edc1c-b929-4809-96e3-015d884f7efe",
   "metadata": {
    "tags": []
   },
   "outputs": [],
   "source": [
    "mcts = MctsSolver(10)\n",
    "root = mcts.search(state)\n",
    "root.render(state)"
   ]
  },
  {
   "cell_type": "markdown",
   "id": "33840c59-7ed2-4d08-9245-ae8a75455e07",
   "metadata": {
    "tags": []
   },
   "source": [
    "# ConnectX Kaggle Battle"
   ]
  },
  {
   "cell_type": "code",
   "execution_count": null,
   "id": "709880d6-9524-4096-8371-ecb8ff9a6ae6",
   "metadata": {
    "tags": []
   },
   "outputs": [],
   "source": [
    "connectx = ConnectX()\n",
    "\n",
    "player_1000 = MctsSolver(1_000)\n",
    "player_100 = MctsSolver(1_00)\n",
    "\n",
    "agent_1000 = connectx.create_agent(player_1000)\n",
    "agent_100 = connectx.create_agent(player_100)\n",
    "\n",
    "# Run on the Kaggle environment\n",
    "env = make(connectx.name, debug=True)\n",
    "env.run([agent_100, agent_1000])\n",
    "env.render(mode=\"ipython\")"
   ]
  },
  {
   "cell_type": "code",
   "execution_count": null,
   "id": "3788d89a-4f6a-4bc3-b279-9216a5c72536",
   "metadata": {
    "tags": []
   },
   "outputs": [],
   "source": [
    "state = connectx.initial_state(\"3,3,4,5,3,4,5,5,6\")\n",
    "state"
   ]
  },
  {
   "cell_type": "code",
   "execution_count": null,
   "id": "6d12759d-edad-4f73-9be7-a775ab492420",
   "metadata": {
    "tags": []
   },
   "outputs": [],
   "source": [
    "mcts = MctsSolver(13)\n",
    "root = mcts.search(state)\n",
    "root.render(state)"
   ]
  }
 ],
 "metadata": {
  "kernelspec": {
   "display_name": "Python 3 (ipykernel)",
   "language": "python",
   "name": "python3"
  },
  "language_info": {
   "codemirror_mode": {
    "name": "ipython",
    "version": 3
   },
   "file_extension": ".py",
   "mimetype": "text/x-python",
   "name": "python",
   "nbconvert_exporter": "python",
   "pygments_lexer": "ipython3",
   "version": "3.11.3"
  }
 },
 "nbformat": 4,
 "nbformat_minor": 5
}
