{
 "cells": [
  {
   "cell_type": "code",
   "execution_count": null,
   "id": "bfd2bdb4-8fab-4738-8d2f-251c2253757b",
   "metadata": {
    "tags": []
   },
   "outputs": [],
   "source": [
    "import numpy as np\n",
    "import random\n",
    "\n",
    "from copy import copy\n",
    "from functools import partial\n",
    "\n",
    "from kaggle_environments import make\n",
    "from pypad.kaggle_sandbox import get_heuristic\n",
    "\n",
    "from pypad.connectx import Board\n",
    "from pypad.solver import Solver"
   ]
  },
  {
   "cell_type": "code",
   "execution_count": null,
   "id": "14d82717-3805-4e4b-950d-887239aca318",
   "metadata": {
    "tags": []
   },
   "outputs": [],
   "source": [
    "# Helper function for score_move: calculates value of heuristic for grid\n",
    "def get_heuristic(board) -> int:\n",
    "    rows = board.rows + 1\n",
    "    directions = (1, rows - 1, rows, rows + 1)\n",
    "    bitboard = board.position ^ board.mask\n",
    "    bitboard2 = board.position\n",
    "    score = 0\n",
    "    for dir in directions:\n",
    "        if result := bitboard & (bitboard >> dir) & (bitboard >> 2 * dir):\n",
    "            score += 0.2 * result.bit_count()\n",
    "            \n",
    "        if result := bitboard2 & (bitboard2 >> dir) & (bitboard2 >> 2 * dir):\n",
    "            score -= 0.1 * result.bit_count()\n",
    "            \n",
    "    return score\n",
    "\n",
    "\n",
    "def shallow_negamax(board: Board, alpha: int, beta: int, depth: int) -> int:\n",
    "    if board.is_full():\n",
    "        return 0\n",
    "\n",
    "    win_mask = board.win_mask()\n",
    "    possible_moves = board.possible_moves_mask()\n",
    "    if (win_mask & possible_moves):\n",
    "        return (board.num_slots - board.num_moves + 1) // 2\n",
    "\n",
    "    max_possible_score = (board.num_slots - board.num_moves - 1) // 2\n",
    "    if max_possible_score <= alpha:\n",
    "        return max_possible_score\n",
    "    \n",
    "    if depth == 0:\n",
    "        return get_heuristic(board)\n",
    "\n",
    "    alpha = -100_000_000\n",
    "    beta = min(beta, max_possible_score)\n",
    "\n",
    "    for move in board.possible_moves():\n",
    "        b = copy(board)\n",
    "        b.play_move(move)\n",
    "        score = -shallow_negamax(b, -beta, -alpha, depth - 1)\n",
    "        alpha = max(alpha, score)\n",
    "        if score >= beta:\n",
    "            return alpha\n",
    "\n",
    "    return alpha\n",
    "\n",
    "def agent_negamax(obs, config, depth):\n",
    "\n",
    "    grid = np.asarray(obs.board).reshape(config.rows, config.columns)\n",
    "    board = Board.from_grid(grid)\n",
    "\n",
    "    best_col, best_score = next(board.possible_col_moves()), -1_000_000\n",
    "\n",
    "    for col in board.possible_col_moves():\n",
    "        b = copy(board)\n",
    "        b.play_col(col)\n",
    "        if b.is_won():\n",
    "            return col\n",
    "\n",
    "    for col in board.possible_col_moves():\n",
    "        b = copy(board)\n",
    "        b.play_col(col)\n",
    "        alpha, beta = -1, 1\n",
    "        score = -shallow_negamax(b, alpha, beta, depth)\n",
    "        if score > best_score:\n",
    "            best_score = score\n",
    "            best_col = col\n",
    "            \n",
    "    return best_col\n",
    "\n",
    "agent_negamax5 = partial(agent_negamax, depth=6)\n",
    "agent_negamax2 = partial(agent_negamax, depth=1)\n",
    "\n",
    "# Setup a tictactoe environment.\n",
    "env = make(\"connectx\", debug=True)\n",
    "env.run([agent_negamax2, agent_negamax5])\n",
    "env.render(mode=\"ipython\")"
   ]
  },
  {
   "cell_type": "code",
   "execution_count": null,
   "id": "7012c313-0e43-4e3c-85b9-0a5d9ea956d0",
   "metadata": {
    "tags": []
   },
   "outputs": [],
   "source": [
    "ROWS, COLS = 6, 7\n",
    "moves = [2,3,2,5,7]\n",
    "moves = [3,3,4,4]\n",
    "board = Board.create(ROWS, COLS, moves)\n",
    "\n",
    "for col in board.possible_col_moves():\n",
    "    b = copy(board)\n",
    "    b.play_col(col)\n",
    "    alpha, beta, depth = -1, 1, 9\n",
    "    score = -shallow_negamax(b, alpha, beta, depth)\n",
    "    print(f'[{col}] Score={score}')\n"
   ]
  },
  {
   "cell_type": "code",
   "execution_count": null,
   "id": "0c453a90-b209-46e5-9142-b7d07c245f24",
   "metadata": {
    "tags": []
   },
   "outputs": [],
   "source": [
    "\n",
    "import numpy as np\n",
    "    \n",
    "solver = Solver()\n",
    "solver.minimax(board, -1, 1)\n",
    "\n",
    "moves = [6,4,1,1,5,4,4,2,2,6,5,7,5,7,2,5,3,6,1,5]\n",
    "board = Board.create(ROWS, COLS, moves)\n",
    "\n",
    "for col in board.possible_col_moves():\n",
    "    b = copy(board)\n",
    "    b.play_col(col)\n",
    "    score = -solver.minimax(b, -1, 1)\n",
    "    print(f'[{col}] Score={score}')"
   ]
  }
 ],
 "metadata": {
  "kernelspec": {
   "display_name": "Python 3 (ipykernel)",
   "language": "python",
   "name": "python3"
  },
  "language_info": {
   "codemirror_mode": {
    "name": "ipython",
    "version": 3
   },
   "file_extension": ".py",
   "mimetype": "text/x-python",
   "name": "python",
   "nbconvert_exporter": "python",
   "pygments_lexer": "ipython3",
   "version": "3.10.10"
  }
 },
 "nbformat": 4,
 "nbformat_minor": 5
}
