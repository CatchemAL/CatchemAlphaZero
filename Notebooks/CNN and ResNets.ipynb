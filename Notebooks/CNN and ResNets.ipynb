{
 "cells": [
  {
   "cell_type": "code",
   "execution_count": null,
   "id": "41a6efae-8c45-483e-80f6-852b40036ab4",
   "metadata": {
    "tags": []
   },
   "outputs": [],
   "source": [
    "from typing import Tuple\n",
    "\n",
    "import torch\n",
    "import torch.nn as nn\n",
    "import torch.optim as optim\n",
    "\n",
    "import numpy as np\n",
    "\n",
    "import matplotlib.pyplot as plt"
   ]
  },
  {
   "cell_type": "markdown",
   "id": "8f812f10-634b-42e8-b64e-b858c983ef3d",
   "metadata": {},
   "source": [
    "# Describing the board with a Convolutional Layer"
   ]
  },
  {
   "cell_type": "code",
   "execution_count": null,
   "id": "2e9160c6-0c14-4658-b62e-0e65b5b78461",
   "metadata": {
    "tags": []
   },
   "outputs": [],
   "source": [
    "def get_input_layer(board) -> np.ndarray:\n",
    "    r = (board == 1).astype(np.float32)\n",
    "    g = (board == 2).astype(np.float32)\n",
    "    b = (board == 0).astype(np.float32)\n",
    "    planes = [r, g, b]\n",
    "    return np.stack(planes)\n",
    "\n",
    "grid = np.array([\n",
    "    [0, 0, 0, 0, 0, 2, 0],\n",
    "    [0, 0, 0, 0, 0, 1, 2],\n",
    "    [0, 1, 0, 0, 0, 1, 1],\n",
    "    [0, 2, 0, 0, 1, 2, 2],\n",
    "    [0, 2, 0, 0, 2, 2, 1],\n",
    "    [1, 2, 0, 0, 1, 1, 2]\n",
    "])\n",
    "\n",
    "planes = get_input_layer(grid)\n",
    "plt.imshow(planes.transpose(1, 2, 0))\n",
    "grid"
   ]
  },
  {
   "cell_type": "code",
   "execution_count": null,
   "id": "daeddf2f-69bc-471f-9c64-9e03b9bfacf4",
   "metadata": {
    "tags": []
   },
   "outputs": [],
   "source": [
    "in_channels = 3\n",
    "out_channels = 3\n",
    "kernel_size = 2\n",
    "\n",
    "# Create a convolutional layer with (out_channels x in_channels x kernel_size x kernel_size) weights\n",
    "conv = nn.Conv2d(in_channels, out_channels, kernel_size, stride=1, padding=1)\n",
    "\n",
    "weights = conv.weight.detach().numpy()[0]\n",
    "weights.transpose(0, 1, 2)\n",
    "normalised_weights = (weights - np.min(weights)) / (np.max(weights) - np.min(weights))\n",
    "\n",
    "_, ax = plt.subplots(figsize=(2, 2))\n",
    "plt.imshow(normalised_weights.transpose(1, 2, 0))\n",
    "\n",
    "conv.weight.shape"
   ]
  },
  {
   "cell_type": "code",
   "execution_count": null,
   "id": "d27b75f4-e59c-49a7-a929-b9b62f88eaae",
   "metadata": {
    "tags": []
   },
   "outputs": [],
   "source": [
    "t_new = torch.tensor([\n",
    "         # red to red (1 to 1)\n",
    "        [[[ 1.0000,  0.0000],\n",
    "          [ 0.0000,  0.0000]],\n",
    "            \n",
    "         # green to red (2 to 1)\n",
    "         [[ 1.0000,  0.0000],\n",
    "          [ 0.0000,  0.0000]],\n",
    "\n",
    "         # blue to red (3 to 1)\n",
    "         [[ 1.0000,  0.0000],\n",
    "          [ 0.0000,  0.0000]]],\n",
    "\n",
    "         # red to green (1 to 2)\n",
    "        [[[ 1.0000,  0.0000],\n",
    "          [ 0.0000,  0.0000]],\n",
    "\n",
    "         # green to green (2 to 2)\n",
    "         [[ 1.0000,  1.0000],\n",
    "          [ 1.0000,  1.0000]],\n",
    "\n",
    "         # blue to green (3 to 2)\n",
    "         [[ 1.0000,  0.0000],\n",
    "          [ 0.0000,  0.0000]]],\n",
    "\n",
    "         # red to blue (1 to 3)\n",
    "        [[[ 1.0000,  0.0000],\n",
    "          [ 0.0000,  0.0000]],\n",
    "\n",
    "         # green to blue (2 to 3)\n",
    "         [[ 1.0000,  0.0000],\n",
    "          [ 0.0000,  0.0000]],\n",
    "\n",
    "          # blue to blue (3 to 3)\n",
    "         [[ 1.0000,  1.0000],\n",
    "          [ 1.0000,  1.0000]]]], requires_grad=True)\n",
    "\n",
    "    \n",
    "conv.weight.data = t_new\n",
    "conv.bias.data = torch.tensor([0., 0., 0.])\n",
    "\n",
    "fig, axs = plt.subplots(out_channels, 3)\n",
    "\n",
    "label = ['r', 'g', 'b', 'k']\n",
    "\n",
    "# Loop over the 3x3 grid of subplots\n",
    "for i in range(out_channels):\n",
    "    for j in range(in_channels):\n",
    "        current_image = conv.weight[i, j].detach().numpy()\n",
    "        \n",
    "        axs[i, j].imshow(current_image, cmap='gray')\n",
    "        axs[i, j].set_title(f\"({label[j]} -> {label[i]})\")\n",
    "        axs[i, j].set(xticks=[], yticks=[], xlabel='', ylabel='')\n",
    "        \n",
    "\n",
    "plt.subplots_adjust(wspace=-0.5, hspace=0.5)\n",
    "plt.gcf().text(0.5, 0.02, 'RGB input channels', ha='center')\n",
    "plt.gcf().text(0.02, 0.5, 'RGB output channels', va='center', rotation='vertical')\n",
    "plt.show()"
   ]
  },
  {
   "cell_type": "code",
   "execution_count": null,
   "id": "61788455-7520-4c7c-a865-5b2e27c5cd14",
   "metadata": {
    "tags": []
   },
   "outputs": [],
   "source": [
    "tensor_planes = torch.Tensor(planes)\n",
    "after = conv(tensor_planes).detach().numpy()\n",
    "normalised_after = (after - np.min(after)) / (np.max(after) - np.min(after))\n",
    "plt.imshow(normalised_after.transpose(1, 2, 0))\n",
    "\n",
    "planes.shape, normalised_after.shape"
   ]
  },
  {
   "cell_type": "markdown",
   "id": "f54fda78-4d65-4425-b0da-9d1a26f8ec4d",
   "metadata": {},
   "source": [
    "# ResNet Architecture"
   ]
  },
  {
   "cell_type": "code",
   "execution_count": null,
   "id": "8b60144a-4579-4144-b3a5-4dbbb508682c",
   "metadata": {
    "tags": []
   },
   "outputs": [],
   "source": [
    "NUM_CHANNELS = 3 # Player 1 mask, Player 2 mask, Possible moves mask\n",
    "KERNEL_SIZE = 3\n",
    "PADDING = 1\n",
    "\n",
    "class ResNet(nn.Module):\n",
    "    \n",
    "    def __init__(self, shape: Tuple[int, int], num_res_blocks: int = 4, num_features: int = 64) -> None:\n",
    "        super().__init__()\n",
    "        \n",
    "        rows, cols = shape\n",
    "        action_size = 9\n",
    "        \n",
    "        self.start_block = nn.Sequential(\n",
    "            nn.Conv2d(NUM_CHANNELS, num_features, kernel_size=KERNEL_SIZE, padding=PADDING),\n",
    "            nn.BatchNorm2d(num_features),\n",
    "            nn.ReLU(inplace=True),\n",
    "        )\n",
    "        \n",
    "        self.res_net_blocks = nn.ModuleList(\n",
    "            [ResNetBlock(num_features) for _ in range(num_res_blocks)]\n",
    "        )\n",
    "        \n",
    "        self.policy_head = nn.Sequential(\n",
    "            nn.Conv2d(num_features, 32, kernel_size=KERNEL_SIZE, padding=PADDING),\n",
    "            nn.BatchNorm2d(32),\n",
    "            nn.ReLU(inplace=True),\n",
    "            nn.Flatten(),\n",
    "            nn.Linear(32 * rows * cols, action_size),\n",
    "            # nn.Softmax()\n",
    "        )\n",
    "        \n",
    "        self.value_head = nn.Sequential(\n",
    "            nn.Conv2d(num_features, 3, kernel_size=KERNEL_SIZE, padding=PADDING),\n",
    "            nn.BatchNorm2d(3),\n",
    "            nn.ReLU(inplace=True),\n",
    "            nn.Flatten(),\n",
    "            nn.Linear(3 * rows * cols, 1),\n",
    "            nn.Tanh()\n",
    "        )\n",
    "\n",
    "    def forward(self, x):\n",
    "        output = self.start_block(x)\n",
    "        for res_net_block in self.res_net_blocks:\n",
    "            output = res_net_block(output)\n",
    "            \n",
    "        policy = self.policy_head(output)\n",
    "        value = self.value_head(output)\n",
    "        \n",
    "        return policy, value\n",
    "        \n",
    "class ResNetBlock(nn.Module):\n",
    "    def __init__(self, num_features: int):\n",
    "        super().__init__()\n",
    "        \n",
    "        self.layers = nn.Sequential(\n",
    "            nn.Conv2d(num_features, num_features, kernel_size=KERNEL_SIZE, padding=PADDING),\n",
    "            nn.BatchNorm2d(num_features),\n",
    "            nn.ReLU(inplace=True),\n",
    "            nn.Conv2d(num_features, num_features, kernel_size=KERNEL_SIZE, padding=PADDING),\n",
    "            nn.BatchNorm2d(num_features),\n",
    "        )\n",
    "\n",
    "        self.relu = nn.ReLU(inplace=True)\n",
    "  \n",
    "    def forward(self, x):\n",
    "        output = self.layers(x)\n",
    "        output += x\n",
    "        return self.relu(output)"
   ]
  },
  {
   "cell_type": "code",
   "execution_count": null,
   "id": "6d1b6e46-86a1-4533-9fc9-6631834b7f62",
   "metadata": {
    "tags": []
   },
   "outputs": [],
   "source": [
    "from pypad.state import State, ConnectX, TicTacToe\n",
    "\n",
    "ROWS, COLS = 6, 7\n",
    "moves = [3,3,4,4,2,5]\n",
    "state = ConnectX.create(ROWS, COLS, moves)\n",
    "\n",
    "moves = [0,5,1,3,8]\n",
    "state = TicTacToe.create(moves)\n",
    "\n",
    "state.plot()\n",
    "\n",
    "planes = state.to_numpy()\n",
    "tensor_state = torch.tensor(planes).unsqueeze(0)\n",
    "tensor_state"
   ]
  },
  {
   "cell_type": "code",
   "execution_count": null,
   "id": "d172a79e-6f67-4490-a28d-b9c3f7bdbfb8",
   "metadata": {
    "tags": []
   },
   "outputs": [],
   "source": [
    "shape = state.shape\n",
    "model = ResNet(shape, num_res_blocks=4, num_features=64)\n",
    "policy, value = model(tensor_state)\n",
    "value = value.item()\n",
    "policy = torch.softmax(policy, axis=1).squeeze().detach().numpy()\n",
    "\n",
    "plt.bar(range(9), policy)\n",
    "plt.show()\n",
    "\n",
    "policy, value\n",
    "\n",
    "legals = [1,3,5] \n",
    "policy\n",
    "legals\n",
    "filtered = policy * 0\n",
    "filtered[legals] = policy[legals]\n",
    "filtered"
   ]
  },
  {
   "cell_type": "code",
   "execution_count": null,
   "id": "427a71ae-5ba9-43c6-81e5-d9ccb90187d7",
   "metadata": {
    "tags": []
   },
   "outputs": [],
   "source": [
    "prior = 3.123\n",
    "prior_as_percent = f\"{prior:.4}\"\n",
    "prior_as_percent"
   ]
  }
 ],
 "metadata": {
  "kernelspec": {
   "display_name": "Python 3 (ipykernel)",
   "language": "python",
   "name": "python3"
  },
  "language_info": {
   "codemirror_mode": {
    "name": "ipython",
    "version": 3
   },
   "file_extension": ".py",
   "mimetype": "text/x-python",
   "name": "python",
   "nbconvert_exporter": "python",
   "pygments_lexer": "ipython3",
   "version": "3.10.10"
  }
 },
 "nbformat": 4,
 "nbformat_minor": 5
}
