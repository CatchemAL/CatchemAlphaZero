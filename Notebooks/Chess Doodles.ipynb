{
 "cells": [
  {
   "cell_type": "code",
   "execution_count": null,
   "id": "34730647-44e8-4cd2-b53a-95c11d390672",
   "metadata": {},
   "outputs": [],
   "source": [
    "import math\n",
    "import numpy as np\n",
    "import matplotlib.pyplot as plt\n",
    "\n",
    "def centipawns_to_q_value(cp: int) -> float:\n",
    "    return np.arctan(cp / 200) / 1.7\n",
    "\n",
    "cps = np.linspace(-1_000, 1_000, 20_001)  \n",
    "q_values = centipawns_to_q_value(cps)\n",
    "\n",
    "plt.plot(cps, q_values)\n",
    "\n",
    "q_values[-50:]"
   ]
  },
  {
   "cell_type": "code",
   "execution_count": null,
   "id": "b63887e7-dbbb-473a-bbd7-2692dc69d737",
   "metadata": {},
   "outputs": [],
   "source": [
    "def q_value_to_centipawns(q: float) -> int:\n",
    "    cp = 250 * math.tan(1.5620688421 * q)\n",
    "    return round(cp)\n",
    "\n",
    "q_value_to_centipawns(0.97)"
   ]
  },
  {
   "cell_type": "code",
   "execution_count": null,
   "id": "ae0e8884-bd97-489c-816b-08e302721040",
   "metadata": {},
   "outputs": [],
   "source": [
    "# 2147 Usual\n",
    "# 2288 (tiny tweak to 1.7 and 120) but x5 outcome multiplier\n",
    "# 2288+   250 * math.tan(1.5620688421 * q) and dicsounting the mate values"
   ]
  }
 ],
 "metadata": {
  "kernelspec": {
   "display_name": "Python 3 (ipykernel)",
   "language": "python",
   "name": "python3"
  },
  "language_info": {
   "codemirror_mode": {
    "name": "ipython",
    "version": 3
   },
   "file_extension": ".py",
   "mimetype": "text/x-python",
   "name": "python",
   "nbconvert_exporter": "python",
   "pygments_lexer": "ipython3",
   "version": "3.11.3"
  }
 },
 "nbformat": 4,
 "nbformat_minor": 5
}
