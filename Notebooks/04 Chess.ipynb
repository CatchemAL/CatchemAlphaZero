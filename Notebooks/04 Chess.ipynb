{
 "cells": [
  {
   "cell_type": "code",
   "execution_count": null,
   "id": "7387ba3b-c578-40f6-8f2f-465daeea6d49",
   "metadata": {},
   "outputs": [],
   "source": [
    "import numpy as np\n",
    "import chess\n",
    "from chess import svg, Move\n",
    "from ipywidgets import interact\n",
    "\n",
    "from pypad.games.chess import Chess, ChessState\n",
    "from pypad.games.chess_enums import ObsPlanes, ActionPlanes, KeyGames\n",
    "\n",
    "GAME_NAMES = KeyGames.__members__.keys()\n",
    "OBS_NAMES = ObsPlanes.__members__.keys()\n",
    "ACTION_NAMES = ActionPlanes.__members__.keys()"
   ]
  },
  {
   "cell_type": "markdown",
   "id": "27055acc-bfcf-438e-a66f-d0c27329622e",
   "metadata": {},
   "source": [
    "# View Key Games"
   ]
  },
  {
   "cell_type": "code",
   "execution_count": null,
   "id": "9665aaa6-af0c-45f2-88dc-9d66ee972412",
   "metadata": {},
   "outputs": [],
   "source": [
    "def view_key_games(label: str, move_count: int, flip: bool):\n",
    "    sans = KeyGames.get(label)\n",
    "    state = ChessState.create(sans[:move_count])\n",
    "    board = state.board\n",
    "    lastmove = board.move_stack[-1] if board.move_stack else None\n",
    "    return svg.board(board, flipped=flip and not board.turn, size=350, lastmove=lastmove)\n",
    "\n",
    "_ = interact(view_key_games, label=GAME_NAMES, move_count=range(445), flip=False)"
   ]
  },
  {
   "cell_type": "markdown",
   "id": "f0942117-5cc5-47d4-977a-d42c583d7802",
   "metadata": {},
   "source": [
    "# Inspect Observation Planes"
   ]
  },
  {
   "cell_type": "code",
   "execution_count": null,
   "id": "c2a4534c-520e-4d44-84bf-ab7944ab64de",
   "metadata": {},
   "outputs": [],
   "source": [
    "def inspect_observation_planes(label: str, plane_name: str, move_count: int):\n",
    "    sans = KeyGames.get(label)\n",
    "    state = ChessState.create(sans[:move_count])\n",
    "    board = state.board\n",
    "    \n",
    "    plane_idx = ObsPlanes.get(plane_name)\n",
    "    state.plot(plane_idx)\n",
    "\n",
    "    lastmove = board.move_stack[-1] if board.move_stack else None\n",
    "    return svg.board(board, flipped=not board.turn, size=350, lastmove=lastmove)\n",
    "\n",
    "_ = interact(inspect_observation_planes, label=GAME_NAMES, plane_name=OBS_NAMES, move_count=range(445))"
   ]
  },
  {
   "cell_type": "markdown",
   "id": "e3b52ed9-d2f2-4dfa-b4bb-5470732d83a4",
   "metadata": {},
   "source": [
    "# Inspect Action Planes"
   ]
  },
  {
   "cell_type": "code",
   "execution_count": null,
   "id": "0a14ea5c-bee6-4471-be1c-483560a08ba4",
   "metadata": {},
   "outputs": [],
   "source": [
    "from chess.svg import Arrow\n",
    "from pypad.views.plot import plot_chess_slice\n",
    "\n",
    "def inspect_policy_planes(label: str, plane_name: str, move_count: int):\n",
    "    sans = KeyGames.get(label)\n",
    "    state = ChessState.create(sans[:move_count])\n",
    "    board = state.board\n",
    "    \n",
    "    arrows = []\n",
    "    plane = ActionPlanes.get(plane_name)\n",
    "    policy = np.zeros(ActionPlanes.shape())\n",
    "    for move in state.status().legal_moves:\n",
    "        p, r, c = state.policy_loc_3d(move)\n",
    "        policy[p, r, c] = 1.0\n",
    "        if p == plane:\n",
    "            arrows.append(Arrow(move.from_square, move.to_square))\n",
    "\n",
    "    plot_chess_slice(policy, plane, (3,3))\n",
    "    \n",
    "    lastmove = board.move_stack[-1] if board.move_stack else None\n",
    "    return svg.board(board, flipped=not board.turn, size=390, lastmove=lastmove, arrows=arrows)\n",
    "\n",
    "_ = interact(inspect_policy_planes, label=GAME_NAMES, plane_name=ACTION_NAMES, move_count=range(200))"
   ]
  },
  {
   "cell_type": "markdown",
   "id": "68d03541-827d-4cb1-a9ab-b144284cc295",
   "metadata": {},
   "source": [
    "#  Fen Inspector"
   ]
  },
  {
   "cell_type": "code",
   "execution_count": null,
   "id": "922650fe-76ef-4738-ad59-620d6d981fa2",
   "metadata": {},
   "outputs": [],
   "source": [
    "state = ChessState.create('7k/8/p5pp/5nn1/3P3P/P2r4/1P2r2q/6RK w - - 1 49')\n",
    "state.board"
   ]
  }
 ],
 "metadata": {
  "kernelspec": {
   "display_name": "Python 3 (ipykernel)",
   "language": "python",
   "name": "python3"
  },
  "language_info": {
   "codemirror_mode": {
    "name": "ipython",
    "version": 3
   },
   "file_extension": ".py",
   "mimetype": "text/x-python",
   "name": "python",
   "nbconvert_exporter": "python",
   "pygments_lexer": "ipython3",
   "version": "3.11.3"
  }
 },
 "nbformat": 4,
 "nbformat_minor": 5
}
