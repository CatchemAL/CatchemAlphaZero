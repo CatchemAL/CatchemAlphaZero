{
 "cells": [
  {
   "cell_type": "code",
   "execution_count": null,
   "id": "227ba98c-e6d8-420f-8ffd-e776ebb2fc94",
   "metadata": {
    "tags": []
   },
   "outputs": [],
   "source": [
    "from pypad.views.html import TicTacToeHtmlBuilder\n",
    "from pypad.states import TicTacToeState\n",
    "\n",
    "tictactoe = TicTacToeState.create([1,2,8,3,7])\n",
    "tictactoe"
   ]
  },
  {
   "cell_type": "code",
   "execution_count": null,
   "id": "b13b011c-832e-41c5-940a-1e4ea5f50d61",
   "metadata": {
    "tags": []
   },
   "outputs": [],
   "source": [
    "from pypad.views.html import ChessHtmlView\n",
    "\n",
    "piece_by_position = [\n",
    "    [\"br\", \"bn\", \"bb\", \"bq\", \"bk\", \"bb\", \"bn\", \"br\"],\n",
    "    [\"bp\", \"bp\", \"bp\", \"bp\", \"bp\", \"bp\", \"bp\", \"bp\"],\n",
    "    [\"  \", \"  \", \"  \", \"  \", \"  \", \"  \", \"  \", \"  \"],\n",
    "    [\"  \", \"  \", \"  \", \"  \", \"  \", \"  \", \"  \", \"  \"],\n",
    "    [\"  \", \"  \", \"  \", \"  \", \"  \", \"  \", \"  \", \"  \"],\n",
    "    [\"  \", \"  \", \"  \", \"  \", \"  \", \"  \", \"  \", \"  \"],\n",
    "    [\"wp\", \"wp\", \"wp\", \"wp\", \"wp\", \"wp\", \"wp\", \"wp\"],\n",
    "    [\"wr\", \"wn\", \"wb\", \"wq\", \"wk\", \"wb\", \"wn\", \"wr\"],\n",
    "]\n",
    "\n",
    "\n",
    "view = ChessHtmlView()\n",
    "view.display(piece_by_position)"
   ]
  }
 ],
 "metadata": {
  "kernelspec": {
   "display_name": "Python 3 (ipykernel)",
   "language": "python",
   "name": "python3"
  },
  "language_info": {
   "codemirror_mode": {
    "name": "ipython",
    "version": 3
   },
   "file_extension": ".py",
   "mimetype": "text/x-python",
   "name": "python",
   "nbconvert_exporter": "python",
   "pygments_lexer": "ipython3",
   "version": "3.10.11"
  }
 },
 "nbformat": 4,
 "nbformat_minor": 5
}
