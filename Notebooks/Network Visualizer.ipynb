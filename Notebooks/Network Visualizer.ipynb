{
 "cells": [
  {
   "cell_type": "code",
   "execution_count": null,
   "id": "8835fea4-1b51-4a80-8cd1-7a83ada43909",
   "metadata": {},
   "outputs": [],
   "source": [
    "from kaggle_environments import make\n",
    "\n",
    "from pypad.solvers.network_torch import PytorchNeuralNetwork\n",
    "from pypad.solvers.alpha_zero import AlphaZero\n",
    "from pypad.solvers.mcts import MctsSolver\n",
    "from pypad.games import ConnectX, TicTacToe\n",
    "from pypad.views import policies"
   ]
  },
  {
   "cell_type": "markdown",
   "id": "330e61d5-7854-47a4-94f5-03e5c2b16484",
   "metadata": {},
   "source": [
    "# Visualising Model predictions for TicTacToe"
   ]
  },
  {
   "cell_type": "code",
   "execution_count": null,
   "id": "bae3834e-af10-4767-96a0-8e1d8fc458f1",
   "metadata": {},
   "outputs": [],
   "source": [
    "tictactoe = TicTacToe()\n",
    "tictactoe_state = tictactoe.initial_state(\"3,4,2\")\n",
    "tictactoe_state"
   ]
  },
  {
   "cell_type": "code",
   "execution_count": null,
   "id": "227fe576-7bfa-4a65-9eb5-a3140df92723",
   "metadata": {},
   "outputs": [],
   "source": [
    "tictactoe_network = PytorchNeuralNetwork.create(tictactoe, '../weights')\n",
    "alpha_zero_ttt = AlphaZero(tictactoe_network)\n",
    "\n",
    "policy, value = alpha_zero_ttt.policy(tictactoe_state, num_mcts_sims=100, is_raw_policy=True)\n",
    "tictactoe_state.show_policy(policy, value)"
   ]
  },
  {
   "cell_type": "markdown",
   "id": "d9f8e60b-c474-4a74-9d64-7da5c5223d52",
   "metadata": {},
   "source": [
    "# Visualising Model predictions for ConnectX"
   ]
  },
  {
   "cell_type": "code",
   "execution_count": null,
   "id": "a30a6c86-6e30-4790-b744-adabcb1e23fb",
   "metadata": {},
   "outputs": [],
   "source": [
    "connectx = ConnectX()\n",
    "connectx_state = connectx.initial_state([4,4,4,4,4,3,2,1,3,3,3,5,5,6,5,5,5,6,7,7,7,7])\n",
    "connectx_state"
   ]
  },
  {
   "cell_type": "code",
   "execution_count": null,
   "id": "757bfea1-d49f-4e4f-81c3-4b32aec2e5a8",
   "metadata": {},
   "outputs": [],
   "source": [
    "connectx_network = PytorchNeuralNetwork.create(connectx, '../weights', 48)\n",
    "alpha_zero_connectx = AlphaZero(connectx_network)\n",
    "\n",
    "policy, value = alpha_zero_connectx.policy(connectx_state, num_mcts_sims=1_000, is_raw_policy=True)\n",
    "connectx_state.show_policy(policy, value)"
   ]
  },
  {
   "cell_type": "markdown",
   "id": "02dd2568-d328-4ce8-8984-d8d55091ff1c",
   "metadata": {},
   "source": [
    "# Alpha Zero vs Classical Monte Carlo Tree Search"
   ]
  },
  {
   "cell_type": "code",
   "execution_count": null,
   "id": "4bb7cebf-45dc-46ae-8988-375e13803387",
   "metadata": {},
   "outputs": [],
   "source": [
    "player_1000 = MctsSolver(1_000)\n",
    "agent_1000 = connectx.create_agent(player_1000)\n",
    "\n",
    "alpha_zero_agent = connectx.create_agent(alpha_zero_connectx)\n",
    "\n",
    "# Run on the Kaggle environment\n",
    "env = make(connectx.name, debug=True)\n",
    "env.run([agent_1000, alpha_zero_agent])\n",
    "env.render(mode=\"ipython\")"
   ]
  }
 ],
 "metadata": {
  "kernelspec": {
   "display_name": "Python 3 (ipykernel)",
   "language": "python",
   "name": "python3"
  },
  "language_info": {
   "codemirror_mode": {
    "name": "ipython",
    "version": 3
   },
   "file_extension": ".py",
   "mimetype": "text/x-python",
   "name": "python",
   "nbconvert_exporter": "python",
   "pygments_lexer": "ipython3",
   "version": "3.11.3"
  }
 },
 "nbformat": 4,
 "nbformat_minor": 5
}
