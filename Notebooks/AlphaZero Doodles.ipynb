{
 "cells": [
  {
   "cell_type": "code",
   "execution_count": 2,
   "id": "3694fdaa-7998-440b-86c1-44209acad4ce",
   "metadata": {
    "tags": []
   },
   "outputs": [],
   "source": [
    "import numpy as np"
   ]
  },
  {
   "cell_type": "code",
   "execution_count": 31,
   "id": "4a81175e-2a0a-4745-a09e-7042d4a75ad5",
   "metadata": {
    "tags": []
   },
   "outputs": [
    {
     "name": "stdout",
     "output_type": "stream",
     "text": [
      "0\n",
      "1\n",
      "2\n",
      "3\n",
      "4\n",
      "5\n",
      "6\n",
      "7\n",
      "8\n",
      "9\n",
      "10\n",
      "11\n"
     ]
    }
   ],
   "source": [
    "from dataclasses import dataclass\n",
    "\n",
    "class Game:\n",
    "    def is_in_progress() -> bool:\n",
    "        return True\n",
    "    \n",
    "@dataclass\n",
    "class Bot:\n",
    "    \n",
    "    game: Game\n",
    "    neural_net: str\n",
    "    \n",
    "    def self_play(self, num_games: int) -> None:\n",
    "        for i in range(num_games):\n",
    "            print(i)\n",
    "\n",
    "connect4 = Game()\n",
    "neural_net = 'todo'\n",
    "bot = Bot(connect4, neural_net)\n",
    "bot.self_play(12)"
   ]
  }
 ],
 "metadata": {
  "kernelspec": {
   "display_name": "Python 3 (ipykernel)",
   "language": "python",
   "name": "python3"
  },
  "language_info": {
   "codemirror_mode": {
    "name": "ipython",
    "version": 3
   },
   "file_extension": ".py",
   "mimetype": "text/x-python",
   "name": "python",
   "nbconvert_exporter": "python",
   "pygments_lexer": "ipython3",
   "version": "3.10.10"
  }
 },
 "nbformat": 4,
 "nbformat_minor": 5
}
