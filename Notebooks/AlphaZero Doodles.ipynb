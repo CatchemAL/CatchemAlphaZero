{
 "cells": [
  {
   "cell_type": "code",
   "execution_count": 2,
   "id": "3694fdaa-7998-440b-86c1-44209acad4ce",
   "metadata": {
    "tags": []
   },
   "outputs": [],
   "source": [
    "import numpy as np"
   ]
  },
  {
   "cell_type": "code",
   "execution_count": 39,
   "id": "4a81175e-2a0a-4745-a09e-7042d4a75ad5",
   "metadata": {
    "tags": []
   },
   "outputs": [
    {
     "name": "stdout",
     "output_type": "stream",
     "text": [
      "Playing game 1 of 5\n",
      " - Playing game...\n",
      " - Playing game...\n",
      " - Playing game...\n",
      "Playing game 2 of 5\n",
      " - Playing game...\n",
      " - Playing game...\n",
      " - Playing game...\n",
      "Playing game 3 of 5\n",
      " - Playing game...\n",
      " - Playing game...\n",
      " - Playing game...\n",
      "Playing game 4 of 5\n",
      " - Playing game...\n",
      " - Playing game...\n",
      " - Playing game...\n",
      "Playing game 5 of 5\n",
      " - Playing game...\n",
      " - Playing game...\n",
      " - Playing game...\n"
     ]
    }
   ],
   "source": [
    "from dataclasses import dataclass\n",
    "\n",
    "@dataclass\n",
    "class Game:\n",
    "    state: int\n",
    "    \n",
    "    def is_in_progress(self) -> bool:\n",
    "        self.state += 1\n",
    "        return self.state < 4\n",
    "    \n",
    "    def get_initial_state(self) -> str:\n",
    "        self.state = 0\n",
    "        return 'todo'\n",
    "    \n",
    "@dataclass\n",
    "class Bot:\n",
    "    \n",
    "    game: Game\n",
    "    neural_net: str\n",
    "    \n",
    "    def self_play(self, num_games: int) -> None:\n",
    "        for i in range(num_games):\n",
    "            print(f'Playing game {i + 1} of {num_games}')\n",
    "            state = self.game.get_initial_state()\n",
    "            while self.game.is_in_progress():\n",
    "                # Get next action via \n",
    "                action = self.mcts(state)\n",
    "                print(f' - Playing game...')\n",
    "\n",
    "connect4 = Game(0)\n",
    "neural_net = 'todo'\n",
    "bot = Bot(connect4, neural_net)\n",
    "bot.self_play(5)"
   ]
  }
 ],
 "metadata": {
  "kernelspec": {
   "display_name": "Python 3 (ipykernel)",
   "language": "python",
   "name": "python3"
  },
  "language_info": {
   "codemirror_mode": {
    "name": "ipython",
    "version": 3
   },
   "file_extension": ".py",
   "mimetype": "text/x-python",
   "name": "python",
   "nbconvert_exporter": "python",
   "pygments_lexer": "ipython3",
   "version": "3.10.10"
  }
 },
 "nbformat": 4,
 "nbformat_minor": 5
}
