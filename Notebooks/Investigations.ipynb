{
 "cells": [
  {
   "cell_type": "markdown",
   "id": "6f9f0cdd-51b1-4d99-bb98-2c2011a7f4da",
   "metadata": {},
   "source": [
    "# Rapid Retraining of existing policy data"
   ]
  },
  {
   "cell_type": "code",
   "execution_count": null,
   "id": "2e0b62c3-655f-4038-ae83-7e70484305fc",
   "metadata": {},
   "outputs": [],
   "source": [
    "# rapid learn\n",
    "import pickle\n",
    "from pathlib import Path\n",
    "from pypad.games import Game, ConnectX, TicTacToe, Chess\n",
    "from pypad.solvers.network_torch import PytorchNeuralNetwork\n",
    "from pypad.solvers.network import TrainingData\n",
    "from pypad.solvers.alpha_zero_parameters import AZTrainingParameters\n",
    "\n",
    "def learn_from_data(generation: int, training_data: list[TrainingData], training_params: AZTrainingParameters):\n",
    "    neural_net.train(training_data, training_params.num_epochs, training_params.minibatch_size)\n",
    "    neural_net.generation = generation + 1\n",
    "    neural_net.save()\n",
    "\n",
    "def get_training_files(game: Game, directory: Path | str) -> None:\n",
    "    directory = Path(directory)\n",
    "    \n",
    "    training_regex = f\"{game.fullname}_gen*.pkl\"\n",
    "    training_files = [file_path for file_path in directory.glob(training_regex)]\n",
    "\n",
    "    for training_file in training_files:\n",
    "        generation = int(training_file.stem.split(\"gen\")[1]) \n",
    "        with open(training_file, \"rb\") as f:\n",
    "            data = pickle.load(f)\n",
    "\n",
    "        yield (generation, data)\n",
    "\n",
    "game = ConnectX()\n",
    "training_params = AZTrainingParameters.defaults(game.fullname)\n",
    "neural_net = PytorchNeuralNetwork.create(game, \"..\")\n",
    "\n",
    "for gen, data in get_training_files(game, r'../training_data'):\n",
    "    print(gen)\n",
    "    learn_from_data(gen, data, training_params)"
   ]
  },
  {
   "cell_type": "code",
   "execution_count": null,
   "id": "a28b13c1-a304-40f1-85af-770db9bf74f8",
   "metadata": {
    "tags": []
   },
   "outputs": [],
   "source": [
    "from kaggle_environments import make\n",
    "\n",
    "from pypad.solvers.mcts import MctsSolver\n",
    "from pypad.games import ConnectX, TicTacToe"
   ]
  },
  {
   "cell_type": "markdown",
   "id": "0ac70410-50aa-479d-98e8-4621aaa96c6a",
   "metadata": {},
   "source": [
    "# Tic-Tac-Toe Kaggle Battle"
   ]
  },
  {
   "cell_type": "code",
   "execution_count": null,
   "id": "ad6f036e-d529-4429-b832-8bc435dd44dd",
   "metadata": {
    "tags": []
   },
   "outputs": [],
   "source": [
    "tictactoe = TicTacToe()\n",
    "\n",
    "player_1000 = MctsSolver(1_000)\n",
    "player_100 = MctsSolver(1_00)\n",
    "\n",
    "agent_1000 = tictactoe.create_agent(player_1000)\n",
    "agent_100 = tictactoe.create_agent(player_100)\n",
    "\n",
    "# Run on the Kaggle environment\n",
    "env = make(tictactoe.name, debug=True)\n",
    "env.run([agent_1000, agent_100])\n",
    "env.render(mode=\"ipython\")"
   ]
  },
  {
   "cell_type": "markdown",
   "id": "408cde36-d935-499c-be0b-1d136222a803",
   "metadata": {},
   "source": [
    "# Tree Search Visualization"
   ]
  },
  {
   "cell_type": "code",
   "execution_count": null,
   "id": "1fb7011b-c174-4a17-89f8-8aea3503ff58",
   "metadata": {
    "tags": []
   },
   "outputs": [],
   "source": [
    "state = tictactoe.initial_state(\"0,1,8,5,6\")\n",
    "state"
   ]
  },
  {
   "cell_type": "code",
   "execution_count": null,
   "id": "df2edc1c-b929-4809-96e3-015d884f7efe",
   "metadata": {
    "tags": []
   },
   "outputs": [],
   "source": [
    "mcts = MctsSolver(10)\n",
    "root = mcts.search(state)\n",
    "root.render(state)"
   ]
  },
  {
   "cell_type": "markdown",
   "id": "33840c59-7ed2-4d08-9245-ae8a75455e07",
   "metadata": {
    "tags": []
   },
   "source": [
    "# ConnectX Kaggle Battle"
   ]
  },
  {
   "cell_type": "code",
   "execution_count": null,
   "id": "709880d6-9524-4096-8371-ecb8ff9a6ae6",
   "metadata": {
    "tags": []
   },
   "outputs": [],
   "source": [
    "connectx = ConnectX()\n",
    "\n",
    "player_1000 = MctsSolver(1_000)\n",
    "player_100 = MctsSolver(1_00)\n",
    "\n",
    "agent_1000 = connectx.create_agent(player_1000)\n",
    "agent_100 = connectx.create_agent(player_100)\n",
    "\n",
    "# Run on the Kaggle environment\n",
    "env = make(connectx.name, debug=True)\n",
    "env.run([agent_100, agent_1000])\n",
    "env.render(mode=\"ipython\")"
   ]
  },
  {
   "cell_type": "code",
   "execution_count": null,
   "id": "3788d89a-4f6a-4bc3-b279-9216a5c72536",
   "metadata": {
    "tags": []
   },
   "outputs": [],
   "source": [
    "state = connectx.initial_state(\"3,3,4,5,3,4,5,5,6\")\n",
    "state"
   ]
  },
  {
   "cell_type": "code",
   "execution_count": null,
   "id": "6d12759d-edad-4f73-9be7-a775ab492420",
   "metadata": {
    "tags": []
   },
   "outputs": [],
   "source": [
    "mcts = MctsSolver(13)\n",
    "root = mcts.search(state)\n",
    "root.render(state)"
   ]
  },
  {
   "cell_type": "markdown",
   "id": "2adb221a-0f4d-4db6-a26f-c6925a976bb4",
   "metadata": {
    "tags": []
   },
   "source": [
    "# ConnectX (Negamax)"
   ]
  },
  {
   "cell_type": "code",
   "execution_count": null,
   "id": "14d82717-3805-4e4b-950d-887239aca318",
   "metadata": {
    "tags": []
   },
   "outputs": [],
   "source": [
    "from pypad.states import ConnectXState\n",
    "from functools import partial\n",
    "import numpy as np\n",
    "from copy import copy\n",
    "\n",
    "game = ConnectX()\n",
    "\n",
    "# Helper function for score_move: calculates value of heuristic for grid\n",
    "def get_heuristic(board) -> int:\n",
    "    rows = board.rows + 1\n",
    "    directions = (1, rows - 1, rows, rows + 1)\n",
    "    bitboard = board.position ^ board.mask\n",
    "    bitboard2 = board.position\n",
    "    score = 0\n",
    "    for dir in directions:\n",
    "        if result := bitboard & (bitboard >> dir) & (bitboard >> 2 * dir):\n",
    "            score += 0.2 * result.bit_count()\n",
    "            \n",
    "        if result := bitboard2 & (bitboard2 >> dir) & (bitboard2 >> 2 * dir):\n",
    "            score -= 0.1 * result.bit_count()\n",
    "            \n",
    "    return score\n",
    "\n",
    "\n",
    "def shallow_negamax(board: ConnectXState, alpha: int, beta: int, depth: int) -> int:\n",
    "    if board.is_full():\n",
    "        return 0\n",
    "\n",
    "    win_mask = board.win_mask()\n",
    "    possible_moves = board.possible_moves_mask()\n",
    "    if (win_mask & possible_moves):\n",
    "        return (board.num_slots - board.num_moves + 1) // 2\n",
    "\n",
    "    max_possible_score = (board.num_slots - board.num_moves - 1) // 2\n",
    "    if max_possible_score <= alpha:\n",
    "        return max_possible_score\n",
    "    \n",
    "    if depth == 0:\n",
    "        return get_heuristic(board)\n",
    "\n",
    "    alpha = -100_000_000\n",
    "    beta = min(beta, max_possible_score)\n",
    "\n",
    "    for move in board.possible_moves():\n",
    "        b = copy(board)\n",
    "        b.play_move(move)\n",
    "        score = -shallow_negamax(b, -beta, -alpha, depth - 1)\n",
    "        alpha = max(alpha, score)\n",
    "        if score >= beta:\n",
    "            return alpha\n",
    "\n",
    "    return alpha\n",
    "\n",
    "def agent_negamax(obs, config, depth):\n",
    "\n",
    "    grid = np.asarray(obs.board).reshape(config.rows, config.columns)\n",
    "    board = ConnectXState.from_grid(grid)\n",
    "\n",
    "    best_col, best_score = next(board.possible_col_moves()), -1_000_000\n",
    "\n",
    "    for col in board.possible_col_moves():\n",
    "        b = copy(board)\n",
    "        b.play_col(col)\n",
    "        if b.is_won():\n",
    "            return col\n",
    "\n",
    "    for col in board.possible_col_moves():\n",
    "        b = copy(board)\n",
    "        b.play_col(col)\n",
    "        alpha, beta = -1, 1\n",
    "        score = -shallow_negamax(b, alpha, beta, depth)\n",
    "        if score > best_score:\n",
    "            best_score = score\n",
    "            best_col = col\n",
    "            \n",
    "    return best_col\n",
    "\n",
    "\n",
    "agent_negamax5 = partial(agent_negamax, depth=4)\n",
    "agent_negamax2 = partial(agent_negamax, depth=1)\n",
    "\n",
    "player_1000 = MctsSolver(1_000)\n",
    "agent_1000 = game.create_agent(player_1000)\n",
    "\n",
    "# Setup a ConnectX environment.\n",
    "env = make(game.name, debug=True)\n",
    "env.run([agent_negamax5, agent_1000])\n",
    "env.render(mode=\"ipython\")"
   ]
  },
  {
   "cell_type": "code",
   "execution_count": null,
   "id": "2d0ecbc9-2df2-40bf-ad28-9da43c16642a",
   "metadata": {
    "tags": []
   },
   "outputs": [],
   "source": [
    "def diagnose(n: int, verbose: bool = True):\n",
    "    obs = env.steps[n-1][0]['observation']\n",
    "    config = env.configuration\n",
    "    \n",
    "    grid = np.asarray(obs.board).reshape(config.rows, config.columns)\n",
    "    state = ConnectXState.from_grid(grid)\n",
    "    \n",
    "    if verbose:\n",
    "        print(f'Last played by: {state.played_by}')\n",
    "        print(f'Next to play:   {3 - state.played_by}\\n')\n",
    "        print(grid)\n",
    "    return obs, config, state\n",
    "\n",
    "n = 12\n",
    "depth = 4\n",
    "obs, config, state = diagnose(n)\n",
    "\n",
    "col = agent_1000(obs, config)\n",
    "col = agent_negamax(obs, config, depth)\n",
    "print(f'\\nSuggested col = {col}')\n",
    "state"
   ]
  },
  {
   "cell_type": "code",
   "execution_count": null,
   "id": "7012c313-0e43-4e3c-85b9-0a5d9ea956d0",
   "metadata": {
    "tags": []
   },
   "outputs": [],
   "source": [
    "ROWS, COLS = 6, 7\n",
    "moves = [2,3,2,5,7]\n",
    "moves = [3,3,4,4]\n",
    "state = ConnectXState.create(ROWS, COLS, moves)\n",
    "\n",
    "for col in state.possible_col_moves():\n",
    "    b = copy(state)\n",
    "    b.play_col(col)\n",
    "    alpha, beta, depth = -1, 1, 9\n",
    "    score = -shallow_negamax(b, alpha, beta, depth)\n",
    "    print(f'[{col}] Score={score}')\n"
   ]
  },
  {
   "cell_type": "code",
   "execution_count": null,
   "id": "0c453a90-b209-46e5-9142-b7d07c245f24",
   "metadata": {
    "tags": []
   },
   "outputs": [],
   "source": [
    "solver = MiniMaxSolver()\n",
    "\n",
    "moves = [6,4,1,1,5,4,4,2,2,6,5,7,5,7,2,5,3,6,1,5]\n",
    "state = ConnectXState.create(ROWS, COLS, moves)\n",
    "\n",
    "for col in state.possible_col_moves():\n",
    "    b = copy(state)\n",
    "    b.play_col(col)\n",
    "    score = -solver.minimax(b, -1, 1)\n",
    "    print(f'[{col}] Score={score}')"
   ]
  }
 ],
 "metadata": {
  "kernelspec": {
   "display_name": "Python 3 (ipykernel)",
   "language": "python",
   "name": "python3"
  },
  "language_info": {
   "codemirror_mode": {
    "name": "ipython",
    "version": 3
   },
   "file_extension": ".py",
   "mimetype": "text/x-python",
   "name": "python",
   "nbconvert_exporter": "python",
   "pygments_lexer": "ipython3",
   "version": "3.11.3"
  }
 },
 "nbformat": 4,
 "nbformat_minor": 5
}
