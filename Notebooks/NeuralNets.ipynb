{
 "cells": [
  {
   "cell_type": "code",
   "execution_count": null,
   "id": "ed2afa9f-b07b-4444-8ad1-0c0e22e5346e",
   "metadata": {
    "tags": []
   },
   "outputs": [],
   "source": [
    "import numpy as np\n",
    "import pandas as pd\n",
    "import matplotlib.pyplot as plt\n",
    "from ipywidgets import interact"
   ]
  },
  {
   "cell_type": "code",
   "execution_count": null,
   "id": "7592dfa2-6677-4dd4-9808-71a8f21823a7",
   "metadata": {
    "tags": []
   },
   "outputs": [],
   "source": [
    "df = pd.read_csv('labelled_data.csv', dtype={'Label':'category'})\n",
    "df.sample(10)"
   ]
  },
  {
   "cell_type": "code",
   "execution_count": null,
   "id": "f88e3974-302f-4210-be2c-39bc4e4f7100",
   "metadata": {
    "tags": []
   },
   "outputs": [],
   "source": [
    "ax = df[df.Label == 'A'].plot(kind='scatter', x='X', y='Y', color='blue')\n",
    "df[df.Label == 'B'].plot(kind='scatter', x='X', y='Y', ax=ax, color='red', grid='on')"
   ]
  },
  {
   "cell_type": "code",
   "execution_count": null,
   "id": "32c2e8dd-7592-452b-b1cf-aca22437fbb0",
   "metadata": {
    "tags": []
   },
   "outputs": [],
   "source": [
    "size = 100\n",
    "\n",
    "xs = np.linspace(0, 1, size + 1) * size\n",
    "xs = xs.astype('int')\n",
    "vecs = []\n",
    "for x in xs:\n",
    "    for y in xs:\n",
    "        vec = np.array([x, y])\n",
    "        vecs.append(vec[:,np.newaxis]) \n",
    "\n",
    "matrix = np.hstack(vecs)\n",
    "\n",
    "def classify(weights, biases, input_layer) -> int:\n",
    "    output_layer = weights @ input_layer + biases\n",
    "    return 1.0 if output_layer[0] >= output_layer[1] else 0.0\n",
    "\n",
    "@interact(w00 = (-1., 1.), w10 = (-1., 1.), w01 = (-1., 1.), w11 = (-1., 1.), b1 = (-50., 50.), b2 = (-50., 50.))\n",
    "def explore(w00: float, w10: float, w01: float, w11: float, b1: float, b2: float) -> bool:\n",
    "\n",
    "\n",
    "    weights = np.array([\n",
    "        [w00, w01],\n",
    "        [w10, w11],\n",
    "    ])\n",
    "    \n",
    "    biases = np.array([b1, b2])\n",
    "\n",
    "    # classify(weights, biases, matrix)\n",
    "    output_layer = weights @ matrix + biases[:,np.newaxis]\n",
    "    mask = output_layer[0,:] < output_layer[1,:]\n",
    "    is_a = mask.astype('int')\n",
    "    data = is_a.reshape((size+1, size+1))\n",
    "\n",
    "    ax = df[df.Label == 'A'].plot(kind='scatter', x='X', y='Y', color='blue')\n",
    "    df[df.Label == 'B'].plot(kind='scatter', x='X', y='Y', ax=ax, color='red', grid='on')\n",
    "\n",
    "\n",
    "    ax.imshow(data, interpolation='nearest', origin='lower')\n",
    "    plt.xticks(np.arange(0.0, 101, 10), np.arange(0.0, 101, 10))\n",
    "    plt.yticks(np.arange(0.0, 101, 10), np.arange(0.0, 101, 10))\n",
    "    ax"
   ]
  }
 ],
 "metadata": {
  "kernelspec": {
   "display_name": "Python 3 (ipykernel)",
   "language": "python",
   "name": "python3"
  },
  "language_info": {
   "codemirror_mode": {
    "name": "ipython",
    "version": 3
   },
   "file_extension": ".py",
   "mimetype": "text/x-python",
   "name": "python",
   "nbconvert_exporter": "python",
   "pygments_lexer": "ipython3",
   "version": "3.10.10"
  }
 },
 "nbformat": 4,
 "nbformat_minor": 5
}
